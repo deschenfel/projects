{
 "cells": [
  {
   "cell_type": "code",
   "execution_count": 2,
   "metadata": {},
   "outputs": [],
   "source": [
    "import pandas as pd"
   ]
  },
  {
   "cell_type": "code",
   "execution_count": 3,
   "metadata": {},
   "outputs": [],
   "source": [
    "data = pd.read_csv('/datasets/Churn.csv')"
   ]
  },
  {
   "cell_type": "code",
   "execution_count": 4,
   "metadata": {},
   "outputs": [
    {
     "name": "stdout",
     "output_type": "stream",
     "text": [
      "   RowNumber  CustomerId   Surname  CreditScore Geography  Gender  Age  \\\n",
      "0          1    15634602  Hargrave          619    France  Female   42   \n",
      "1          2    15647311      Hill          608     Spain  Female   41   \n",
      "2          3    15619304      Onio          502    France  Female   42   \n",
      "3          4    15701354      Boni          699    France  Female   39   \n",
      "4          5    15737888  Mitchell          850     Spain  Female   43   \n",
      "\n",
      "   Tenure    Balance  NumOfProducts  HasCrCard  IsActiveMember  \\\n",
      "0     2.0       0.00              1          1               1   \n",
      "1     1.0   83807.86              1          0               1   \n",
      "2     8.0  159660.80              3          1               0   \n",
      "3     1.0       0.00              2          0               0   \n",
      "4     2.0  125510.82              1          1               1   \n",
      "\n",
      "   EstimatedSalary  Exited  \n",
      "0        101348.88       1  \n",
      "1        112542.58       0  \n",
      "2        113931.57       1  \n",
      "3         93826.63       0  \n",
      "4         79084.10       0  \n"
     ]
    }
   ],
   "source": [
    "print(data.head())"
   ]
  },
  {
   "cell_type": "code",
   "execution_count": 5,
   "metadata": {},
   "outputs": [
    {
     "name": "stdout",
     "output_type": "stream",
     "text": [
      "<class 'pandas.core.frame.DataFrame'>\n",
      "RangeIndex: 10000 entries, 0 to 9999\n",
      "Data columns (total 14 columns):\n",
      " #   Column           Non-Null Count  Dtype  \n",
      "---  ------           --------------  -----  \n",
      " 0   RowNumber        10000 non-null  int64  \n",
      " 1   CustomerId       10000 non-null  int64  \n",
      " 2   Surname          10000 non-null  object \n",
      " 3   CreditScore      10000 non-null  int64  \n",
      " 4   Geography        10000 non-null  object \n",
      " 5   Gender           10000 non-null  object \n",
      " 6   Age              10000 non-null  int64  \n",
      " 7   Tenure           9091 non-null   float64\n",
      " 8   Balance          10000 non-null  float64\n",
      " 9   NumOfProducts    10000 non-null  int64  \n",
      " 10  HasCrCard        10000 non-null  int64  \n",
      " 11  IsActiveMember   10000 non-null  int64  \n",
      " 12  EstimatedSalary  10000 non-null  float64\n",
      " 13  Exited           10000 non-null  int64  \n",
      "dtypes: float64(3), int64(8), object(3)\n",
      "memory usage: 1.1+ MB\n",
      "None\n"
     ]
    }
   ],
   "source": [
    "print(data.info())"
   ]
  },
  {
   "cell_type": "code",
   "execution_count": 6,
   "metadata": {},
   "outputs": [],
   "source": [
    "data.dropna(subset=['Tenure'], inplace=True)"
   ]
  },
  {
   "cell_type": "markdown",
   "metadata": {},
   "source": [
    "visto que tenure tem 9091 non-null, temos 9091 valores não nulos"
   ]
  },
  {
   "cell_type": "markdown",
   "metadata": {},
   "source": [
    "agora embaixo vamos remover colunas que não vão ser interessantes para nosso modelo de predição"
   ]
  },
  {
   "cell_type": "code",
   "execution_count": 7,
   "metadata": {},
   "outputs": [],
   "source": [
    "data.drop(['RowNumber', 'CustomerId', 'Surname'], axis=1, inplace=True)"
   ]
  },
  {
   "cell_type": "code",
   "execution_count": 8,
   "metadata": {},
   "outputs": [
    {
     "name": "stdout",
     "output_type": "stream",
     "text": [
      "   CreditScore Geography  Gender  Age  Tenure    Balance  NumOfProducts  \\\n",
      "0          619    France  Female   42     2.0       0.00              1   \n",
      "1          608     Spain  Female   41     1.0   83807.86              1   \n",
      "2          502    France  Female   42     8.0  159660.80              3   \n",
      "3          699    France  Female   39     1.0       0.00              2   \n",
      "4          850     Spain  Female   43     2.0  125510.82              1   \n",
      "\n",
      "   HasCrCard  IsActiveMember  EstimatedSalary  Exited  \n",
      "0          1               1        101348.88       1  \n",
      "1          0               1        112542.58       0  \n",
      "2          1               0        113931.57       1  \n",
      "3          0               0         93826.63       0  \n",
      "4          1               1         79084.10       0  \n"
     ]
    }
   ],
   "source": [
    "print(data.head())"
   ]
  },
  {
   "cell_type": "markdown",
   "metadata": {},
   "source": [
    "Agora, vamos fazer a codificação de variáveis categóricas "
   ]
  },
  {
   "cell_type": "code",
   "execution_count": 9,
   "metadata": {},
   "outputs": [],
   "source": [
    "from sklearn.preprocessing import LabelEncoder\n",
    "label_encoder = LabelEncoder()\n",
    "data['Geography'] = label_encoder.fit_transform(data['Geography'])\n",
    "data['Gender'] = label_encoder.fit_transform(data['Gender'])"
   ]
  },
  {
   "cell_type": "code",
   "execution_count": 10,
   "metadata": {},
   "outputs": [
    {
     "name": "stdout",
     "output_type": "stream",
     "text": [
      "   CreditScore  Geography  Gender  Age  Tenure    Balance  NumOfProducts  \\\n",
      "0          619          0       0   42     2.0       0.00              1   \n",
      "1          608          2       0   41     1.0   83807.86              1   \n",
      "2          502          0       0   42     8.0  159660.80              3   \n",
      "3          699          0       0   39     1.0       0.00              2   \n",
      "4          850          2       0   43     2.0  125510.82              1   \n",
      "\n",
      "   HasCrCard  IsActiveMember  EstimatedSalary  Exited  \n",
      "0          1               1        101348.88       1  \n",
      "1          0               1        112542.58       0  \n",
      "2          1               0        113931.57       1  \n",
      "3          0               0         93826.63       0  \n",
      "4          1               1         79084.10       0  \n"
     ]
    }
   ],
   "source": [
    "print(data.head())"
   ]
  },
  {
   "cell_type": "code",
   "execution_count": 11,
   "metadata": {},
   "outputs": [],
   "source": [
    "#separando variáveis independentes de dependentes\n",
    "x = data.drop('Exited', axis=1)  # Recursos\n",
    "y = data['Exited']  # Alvo"
   ]
  },
  {
   "cell_type": "code",
   "execution_count": 12,
   "metadata": {},
   "outputs": [],
   "source": [
    "\n",
    "#separando dados em conjuntos de testes\n",
    "from sklearn.model_selection import train_test_split\n",
    "\n",
    "x_train, x_test, y_train, y_test = train_test_split(x, y, test_size=0.25, random_state=12345)\n"
   ]
  },
  {
   "cell_type": "code",
   "execution_count": 13,
   "metadata": {},
   "outputs": [],
   "source": [
    "#mesma escala\n",
    "from sklearn.preprocessing import StandardScaler\n",
    "\n",
    "scaler = StandardScaler()\n",
    "x_train = scaler.fit_transform(x_train)\n",
    "x_test = scaler.transform(x_test)"
   ]
  },
  {
   "cell_type": "code",
   "execution_count": 14,
   "metadata": {},
   "outputs": [
    {
     "name": "stdout",
     "output_type": "stream",
     "text": [
      "0    7237\n",
      "1    1854\n",
      "Name: Exited, dtype: int64\n"
     ]
    },
    {
     "data": {
      "image/png": "[encoded data removed]",
      "text/plain": [
       "<Figure size 640x480 with 1 Axes>"
      ]
     },
     "metadata": {},
     "output_type": "display_data"
    }
   ],
   "source": [
    "#Verificando o equilibro\n",
    "# Contar a quantidade de exemplos em cada classe\n",
    "class_distribution = y.value_counts()\n",
    "print(class_distribution)\n",
    "\n",
    "# Visualizar a distribuição\n",
    "import matplotlib.pyplot as plt\n",
    "\n",
    "class_distribution.plot(kind='bar', color=['blue', 'orange'])\n",
    "plt.title('Distribuição das Classes - Exited')\n",
    "plt.xlabel('Classe')\n",
    "plt.ylabel('Número de Exemplos')\n",
    "plt.xticks(ticks=[0, 1], labels=['Não Exited (0)', 'Exited (1)'], rotation=0)\n",
    "plt.show()"
   ]
  },
  {
   "cell_type": "code",
   "execution_count": 15,
   "metadata": {},
   "outputs": [
    {
     "name": "stdout",
     "output_type": "stream",
     "text": [
      "[[1565  257]\n",
      " [ 228  223]]\n",
      "              precision    recall  f1-score   support\n",
      "\n",
      "           0       0.87      0.86      0.87      1822\n",
      "           1       0.46      0.49      0.48       451\n",
      "\n",
      "    accuracy                           0.79      2273\n",
      "   macro avg       0.67      0.68      0.67      2273\n",
      "weighted avg       0.79      0.79      0.79      2273\n",
      "\n"
     ]
    }
   ],
   "source": [
    "#treinar o modelo\n",
    "from sklearn.tree import DecisionTreeClassifier\n",
    "from sklearn.metrics import classification_report, confusion_matrix\n",
    "\n",
    "# Criar e treinar o modelo\n",
    "model = DecisionTreeClassifier(random_state=42)\n",
    "model.fit(x_train, y_train)\n",
    "\n",
    "# Fazer previsões\n",
    "y_pred = model.predict(x_test)\n",
    "\n",
    "# Avaliar o modelo\n",
    "print(confusion_matrix(y_test, y_pred))\n",
    "print(classification_report(y_test, y_pred))"
   ]
  },
  {
   "cell_type": "markdown",
   "metadata": {},
   "source": [
    "O modelo previu corretamente que 1565 clientes não sairiam. O modelo previu que 257 clientes sairiam, mas na verdade não saíram. FN: 228 e TP: 223.\n",
    "Recall de 49% para a classe Exited (1) indica que o modelo falha em identificar uma quantidade significativa de clientes que saem. Ou seja, muitos clientes que estão propensos a sair não estão sendo corretamente previstos. Modelo está tentando prever a classe majoritaria, ignorando a minoritaria."
   ]
  },
  {
   "cell_type": "code",
   "execution_count": 16,
   "metadata": {},
   "outputs": [
    {
     "name": "stdout",
     "output_type": "stream",
     "text": [
      "\n",
      "=== RandomForest (com undersampling) ===\n",
      "              precision    recall  f1-score   support\n",
      "\n",
      "           0       0.93      0.79      0.85      1822\n",
      "           1       0.47      0.75      0.58       451\n",
      "\n",
      "    accuracy                           0.78      2273\n",
      "   macro avg       0.70      0.77      0.71      2273\n",
      "weighted avg       0.84      0.78      0.80      2273\n",
      "\n",
      "F1: 0.5755517826825127\n",
      "ROC-AUC: 0.8596703021216421\n"
     ]
    }
   ],
   "source": [
    "#undersampling\n",
    "from sklearn.ensemble import RandomForestClassifier\n",
    "from sklearn.metrics import classification_report, f1_score, roc_auc_score\n",
    "\n",
    "# Juntar x e y para facilitar o undersampling\n",
    "train_data = pd.DataFrame(x_train, columns=x.columns)\n",
    "train_data['Exited'] = y_train.values\n",
    "# Separar as classes\n",
    "class_0 = train_data[train_data['Exited'] == 0]\n",
    "class_1 = train_data[train_data['Exited'] == 1]\n",
    "\n",
    "# Balancear removendo parte da classe 0\n",
    "class_0_under = class_0.sample(len(class_1), random_state=42)\n",
    "train_balanced = pd.concat([class_0_under, class_1])\n",
    "# Separar novamente em X e y\n",
    "x_train_bal = train_balanced.drop('Exited', axis=1)\n",
    "y_train_bal = train_balanced['Exited']\n",
    "\n",
    "# Treinar novamente com RandomForest\n",
    "rf_bal = RandomForestClassifier(random_state=42, n_estimators=200, max_depth=10)\n",
    "rf_bal.fit(x_train_bal, y_train_bal)\n",
    "\n",
    "y_pred_bal = rf_bal.predict(x_test)\n",
    "\n",
    "print(\"\\n=== RandomForest (com undersampling) ===\")\n",
    "print(classification_report(y_test, y_pred_bal))\n",
    "print(\"F1:\", f1_score(y_test, y_pred_bal))\n",
    "print(\"ROC-AUC:\", roc_auc_score(y_test, rf_bal.predict_proba(x_test)[:,1]))"
   ]
  },
  {
   "cell_type": "code",
   "execution_count": 17,
   "metadata": {},
   "outputs": [
    {
     "name": "stdout",
     "output_type": "stream",
     "text": [
      "\n",
      "=== RandomForest (com class_weight='balanced') ===\n",
      "              precision    recall  f1-score   support\n",
      "\n",
      "           0       0.91      0.89      0.90      1822\n",
      "           1       0.60      0.64      0.62       451\n",
      "\n",
      "    accuracy                           0.84      2273\n",
      "   macro avg       0.76      0.77      0.76      2273\n",
      "weighted avg       0.85      0.84      0.85      2273\n",
      "\n",
      "F1: 0.6201716738197426\n",
      "ROC-AUC: 0.860331109547998\n"
     ]
    }
   ],
   "source": [
    "#segundo abordagem\n",
    "rf_weighted = RandomForestClassifier(random_state=42, \n",
    "                                     n_estimators=200, \n",
    "                                     max_depth=10,\n",
    "                                     class_weight='balanced')\n",
    "rf_weighted.fit(x_train, y_train)\n",
    "\n",
    "y_pred_weighted = rf_weighted.predict(x_test)\n",
    "\n",
    "print(\"\\n=== RandomForest (com class_weight='balanced') ===\")\n",
    "print(classification_report(y_test, y_pred_weighted))\n",
    "print(\"F1:\", f1_score(y_test, y_pred_weighted))\n",
    "print(\"ROC-AUC:\", roc_auc_score(y_test, rf_weighted.predict_proba(x_test)[:,1]))\n"
   ]
  },
  {
   "cell_type": "markdown",
   "metadata": {},
   "source": [
    "Abordagem 1: não bateu o requisito de 0,59. A abordagem ajudou a aumentar o recall, que está muito bom, mas prejudicou a precisão. F1 ficou perto de 0,59, mas ainda não chegou. \n",
    "Abordagem 2: O F1 bateu o requisito, maior equilibrio entre precisão e recall."
   ]
  },
  {
   "cell_type": "code",
   "execution_count": 18,
   "metadata": {},
   "outputs": [
    {
     "name": "stdout",
     "output_type": "stream",
     "text": [
      "=== TESTE FINAL: RandomForest (class_weight='balanced') ===\n",
      "[[1630  192]\n",
      " [ 162  289]]\n",
      "              precision    recall  f1-score   support\n",
      "\n",
      "           0       0.91      0.89      0.90      1822\n",
      "           1       0.60      0.64      0.62       451\n",
      "\n",
      "    accuracy                           0.84      2273\n",
      "   macro avg       0.76      0.77      0.76      2273\n",
      "weighted avg       0.85      0.84      0.85      2273\n",
      "\n",
      "F1: 0.6201716738197426\n",
      "ROC-AUC: 0.860331109547998\n"
     ]
    }
   ],
   "source": [
    "from sklearn.ensemble import RandomForestClassifier\n",
    "from sklearn.metrics import classification_report, f1_score, roc_auc_score, confusion_matrix\n",
    "\n",
    "# Modelo final\n",
    "final_model = RandomForestClassifier(random_state=42,\n",
    "                                     class_weight='balanced',\n",
    "                                     n_estimators=200,\n",
    "                                     max_depth=10)\n",
    "final_model.fit(x_train, y_train)\n",
    "\n",
    "# Previsões no conjunto de teste\n",
    "y_pred_final = final_model.predict(x_test)\n",
    "\n",
    "# Métricas\n",
    "print(\"=== TESTE FINAL: RandomForest (class_weight='balanced') ===\")\n",
    "print(confusion_matrix(y_test, y_pred_final))\n",
    "print(classification_report(y_test, y_pred_final))\n",
    "print(\"F1:\", f1_score(y_test, y_pred_final))\n",
    "print(\"ROC-AUC:\", roc_auc_score(y_test, final_model.predict_proba(x_test)[:,1]))"
   ]
  },
  {
   "cell_type": "markdown",
   "metadata": {},
   "source": [
    "O modelo RandomForest com class_weight='balanced' conseguiu superar o limite estabelecido (F1 ≥ 0.59), atingindo F1 = 0.62 no conjunto de teste final.\n",
    "Além disso, o valor de ROC-AUC = 0.86 confirma que o modelo tem boa capacidade de discriminação entre as classes."
   ]
  }
 ],
 "metadata": {
  "kernelspec": {
   "display_name": "Python 3 (ipykernel)",
   "language": "python",
   "name": "python3"
  },
  "language_info": {
   "codemirror_mode": {
    "name": "ipython",
    "version": 3
   },
   "file_extension": ".py",
   "mimetype": "text/x-python",
   "name": "python",
   "nbconvert_exporter": "python",
   "pygments_lexer": "ipython3",
   "version": "3.9.23"
  }
 },
 "nbformat": 4,
 "nbformat_minor": 4
}

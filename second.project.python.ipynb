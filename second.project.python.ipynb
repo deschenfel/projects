{
 "cells": [
  {
   "cell_type": "markdown",
   "metadata": {
    "id": "VUC88oWjTJw2"
   },
   "source": [
    "## Introdução <a id='intro'></a>\n",
    "O trabalho de um analista é analisar dados para obter percepções valiosas dos dados e tomar decisões fundamentadas neles. Esse processo consiste em várias etapas, como visão geral dos dados, pré-processamento dos dados e testes de hipóteses.\n",
    "\n",
    "Sempre que fazemos uma pesquisa, precisamos formular uma hipótese que depois poderemos testar. Às vezes nós aceitamos essas hipóteses; outras vezes, nós as rejeitamos. Para fazer as escolhas certas, um negócio deve ser capaz de entender se está fazendo as suposições certas ou não.\n",
    "\n",
    "Neste projeto, você vai comparar as preferências musicais dos habitantes de Springfild e Shelbyville. Você vai estudar os dados de um serviço de streaming de música online para testar a hipótese apresentada abaixo e comparar o comportamento dos usuários dessas duas cidades.\n",
    "\n",
    "### Objetivo:\n",
    "Teste a hipótese:\n",
    "1. A atividade dos usuários é diferente dependendo do dia da semana e da cidade.\n",
    "\n",
    "\n",
    "### Etapas\n",
    "Os dados sobre o comportamento do usuário são armazenados no arquivo `/datasets/music_project_en.csv`. Não há informações sobre a qualidade dos dados, então será necessário examiná-los antes de testar a hipótese.\n",
    "\n",
    "Primeiro, você avaliará a qualidade dos dados e verá se seus problemas são significativos. Depois, durante o pré-processamento dos dados, você tentará tratar dos problemas mais críticos.\n",
    "\n",
    "O seu projeto consistirá em três etapas:\n",
    " 1. Visão geral dos dados\n",
    " 2. Pré-processamento de dados\n",
    " 3. Teste da hipótese\n",
    "\n",
    "\n",
    "\n",
    "\n",
    "\n",
    "\n"
   ]
  },
  {
   "cell_type": "markdown",
   "metadata": {
    "id": "hDt6pg-Rw-1U"
   },
   "source": [
    "[Voltar ao Índice](#back)"
   ]
  },
  {
   "cell_type": "markdown",
   "metadata": {
    "id": "Ml1hmfXC_Zcs"
   },
   "source": [
    "## Etapa 1. Visão geral dos dados <a id='data_review'></a>\n",
    "\n",
    "Abra os dados e examine-os."
   ]
  },
  {
   "cell_type": "markdown",
   "metadata": {
    "id": "57eAOGIz_Zcs"
   },
   "source": [
    "Você precisará da `pandas`, então, importe-a."
   ]
  },
  {
   "cell_type": "code",
   "execution_count": 1,
   "metadata": {
    "id": "AXN7PHPN_Zcs",
    "trusted": false
   },
   "outputs": [
    {
     "ename": "ModuleNotFoundError",
     "evalue": "No module named 'pandas'",
     "output_type": "error",
     "traceback": [
      "\u001b[0;31m---------------------------------------------------------------------------\u001b[0m",
      "\u001b[0;31mModuleNotFoundError\u001b[0m                       Traceback (most recent call last)",
      "Cell \u001b[0;32mIn[1], line 2\u001b[0m\n\u001b[1;32m      1\u001b[0m \u001b[38;5;66;03m# importando pandas\u001b[39;00m\n\u001b[0;32m----> 2\u001b[0m \u001b[38;5;28;01mimport\u001b[39;00m\u001b[38;5;250m \u001b[39m\u001b[38;5;21;01mpandas\u001b[39;00m\u001b[38;5;250m \u001b[39m\u001b[38;5;28;01mas\u001b[39;00m\u001b[38;5;250m \u001b[39m\u001b[38;5;21;01mpd\u001b[39;00m\n",
      "\u001b[0;31mModuleNotFoundError\u001b[0m: No module named 'pandas'"
     ]
    }
   ],
   "source": [
    "# importando pandas\n",
    "import pandas as pd\n"
   ]
  },
  {
   "cell_type": "markdown",
   "metadata": {
    "id": "SG23P8tt_Zcs"
   },
   "source": [
    "Leia o arquivo `music_project_en.csv` da pasta `/datasets/` e salve-o na variável `df`:"
   ]
  },
  {
   "cell_type": "code",
   "execution_count": null,
   "metadata": {
    "id": "fFVu7vqh_Zct",
    "trusted": false
   },
   "outputs": [],
   "source": [
    "# lendo o arquivo e armazenando em df\n",
    "df= pd.read_csv('/datasets/music_project_en.csv')"
   ]
  },
  {
   "cell_type": "markdown",
   "metadata": {
    "id": "rDoOMd3uTqnZ"
   },
   "source": [
    "Imprima as primeiras 10 linhas da tabela:"
   ]
  },
  {
   "cell_type": "code",
   "execution_count": null,
   "metadata": {
    "id": "oWTVX3gW_Zct",
    "trusted": false
   },
   "outputs": [
    {
     "name": "stdout",
     "output_type": "stream",
     "text": [
      "     userID                        Track            artist   genre  \\\n",
      "0  FFB692EC            Kamigata To Boots  The Mass Missile    rock   \n",
      "1  55204538  Delayed Because of Accident  Andreas Rönnberg    rock   \n",
      "2    20EC38            Funiculì funiculà       Mario Lanza     pop   \n",
      "3  A3DD03C9        Dragons in the Sunset        Fire + Ice    folk   \n",
      "4  E2DC1FAE                  Soul People        Space Echo   dance   \n",
      "5  842029A1                       Chains          Obladaet  rusrap   \n",
      "6  4CB90AA5                         True      Roman Messer   dance   \n",
      "7  F03E1C1F             Feeling This Way   Polina Griffith   dance   \n",
      "8  8FA1D3BE                     L’estate       Julia Dalia  ruspop   \n",
      "9  E772D5C0                    Pessimist               NaN   dance   \n",
      "\n",
      "        City        time        Day  \n",
      "0  Shelbyville  20:28:33  Wednesday  \n",
      "1  Springfield  14:07:09     Friday  \n",
      "2  Shelbyville  20:58:07  Wednesday  \n",
      "3  Shelbyville  08:37:09     Monday  \n",
      "4  Springfield  08:34:34     Monday  \n",
      "5  Shelbyville  13:09:41     Friday  \n",
      "6  Springfield  13:00:07  Wednesday  \n",
      "7  Springfield  20:47:49  Wednesday  \n",
      "8  Springfield  09:17:40     Friday  \n",
      "9  Shelbyville  21:20:49  Wednesday  \n"
     ]
    }
   ],
   "source": [
    "# obtenha as 10 primeiras 10 linhas da tabela df\n",
    "print (df.head(10))"
   ]
  },
  {
   "cell_type": "markdown",
   "metadata": {
    "id": "EO73Kwic_Zct"
   },
   "source": [
    "Obtenha informações gerais sobre a tabela usando um comando. Você conhece o método para exibir informações gerais que precisamos obter."
   ]
  },
  {
   "cell_type": "code",
   "execution_count": null,
   "metadata": {
    "id": "DSf2kIb-_Zct",
    "trusted": false
   },
   "outputs": [
    {
     "name": "stdout",
     "output_type": "stream",
     "text": [
      "<class 'pandas.core.frame.DataFrame'>\n",
      "RangeIndex: 65079 entries, 0 to 65078\n",
      "Data columns (total 7 columns):\n",
      " #   Column    Non-Null Count  Dtype \n",
      "---  ------    --------------  ----- \n",
      " 0     userID  65079 non-null  object\n",
      " 1   Track     63736 non-null  object\n",
      " 2   artist    57512 non-null  object\n",
      " 3   genre     63881 non-null  object\n",
      " 4     City    65079 non-null  object\n",
      " 5   time      65079 non-null  object\n",
      " 6   Day       65079 non-null  object\n",
      "dtypes: object(7)\n",
      "memory usage: 3.5+ MB\n",
      "None\n"
     ]
    }
   ],
   "source": [
    "# obtendo informações gerais sobre os nossos dados\n",
    "print (df.info())"
   ]
  },
  {
   "cell_type": "markdown",
   "metadata": {
    "id": "TaQ2Iwbr_Zct"
   },
   "source": [
    "Aqui estão as nossas observações sobre a tabela. Ela contém sete colunas. Elas armazenam o mesmo tipo de dado: `object`.\n",
    "\n",
    "De acordo com a documentação:\n",
    "- `' userID'` — identificação do usuário\n",
    "- `'Track'` — título da música\n",
    "- `'artist'` — nome do artista\n",
    "- `'genre'` — gênero da música\n",
    "- `'City'` — cidade do usuário\n",
    "- `'time'` — o tempo exato que a música foi reproduzida\n",
    "- `'Day'` — dia da semana\n",
    "\n",
    "Podemos ver três problemas de estilo nos cabeçalhos da tabela:\n",
    "1. Alguns cabeçalhos são escritos em letras maiúsculas, outros estão em minúsculas.\n",
    "2. Alguns cabeçalhos contêm espaços.\n",
    "3. `Detecte o problema e o descreva aqui`. Então, precisamos retirar os espaços e deixar tudo com letra minúscula.\n",
    "\n",
    "\n"
   ]
  },
  {
   "cell_type": "markdown",
   "metadata": {
    "id": "MCB6-dXG_Zct"
   },
   "source": [
    "### Escreva suas observações. Aqui estão algumas perguntas que podem ajudar: <a id='data_review_conclusions'></a>\n",
    "\n",
    "`1.   Que tipo de dados temos nas linhas? E como podemos entender as colunas?` 'As linhas apresentam observações individuais, ou seja, cada linha é um registro de uma música escutada pelo usuário. E as colunas, foram definidas acima, mas elas mostram o ID, Track, artist...'\n",
    "\n",
    "`2.   Esses dados são suficientes para responder à nossa hipótese ou precisamos de mais dados?` 'Creio que sim, pois as coluans nos mostram a cidade que o usuário reside e quanto tempo de música foi reproduzida e em qual dia da semana.'\n",
    "\n",
    "`3.   Você notou algum problema nos dados, como valores ausentes, duplicados ou tipos de dados errados`'Valores ausentes, espaços errados, escrita não padronizada (alguns maiúsculos, outros minúsculos).'"
   ]
  },
  {
   "cell_type": "markdown",
   "metadata": {
    "id": "3eL__vcwViOi"
   },
   "source": [
    "[Voltar ao Índice](#back)"
   ]
  },
  {
   "cell_type": "markdown",
   "metadata": {
    "id": "SjYF6Ub9_Zct"
   },
   "source": [
    "## Etapa 2. Pré-processamento de dados <a id='data_preprocessing'></a>\n",
    "\n",
    "O objetivo aqui é preparar os dados para a análise.\n",
    "O primeiro passo é resolver todos os problemas com o cabeçalho. E então podemos passar para os valores ausentes e duplicados. Vamos começar.\n",
    "\n",
    "Corrija a formatação nos cabeçalhos da tabela.\n"
   ]
  },
  {
   "cell_type": "markdown",
   "metadata": {
    "id": "dIaKXr29_Zct"
   },
   "source": [
    "### Estilo do cabeçalho <a id='header_style'></a>\n",
    "Imprima os cabeçalhos da tabela (os nomes das colunas):"
   ]
  },
  {
   "cell_type": "code",
   "execution_count": null,
   "metadata": {
    "id": "oKOTdF_Q_Zct",
    "trusted": false
   },
   "outputs": [
    {
     "name": "stdout",
     "output_type": "stream",
     "text": [
      "Index(['  userID', 'Track', 'artist', 'genre', '  City  ', 'time', 'Day'], dtype='object')\n"
     ]
    }
   ],
   "source": [
    "# imprima os nomes das colunas\n",
    "print (df.columns)"
   ]
  },
  {
   "cell_type": "markdown",
   "metadata": {
    "id": "zj5534cv_Zct"
   },
   "source": [
    "Mude os cabeçalhos da tabela conforme as boas práticas de estilo:\n",
    "* Todos os caracteres precisam estar com letras minúsculas\n",
    "* Exclua espaços\n",
    "* Se o nome tiver várias palavras, use snake_case"
   ]
  },
  {
   "cell_type": "markdown",
   "metadata": {
    "id": "Xu0zkfe5zNJe"
   },
   "source": [
    "Anteriormente, você aprendeu sobre uma maneira automatizada de renomear colunas. Vamos usá-la agora. Use o ciclo for para percorrer os nomes das colunas e transformar todos os caracteres em letras minúsculas. Após fazer isso, imprima os cabeçalhos da tabela novamente:"
   ]
  },
  {
   "cell_type": "code",
   "execution_count": null,
   "metadata": {
    "id": "6I_RwwMhzM4e",
    "trusted": false
   },
   "outputs": [
    {
     "name": "stdout",
     "output_type": "stream",
     "text": [
      "Index(['  userid', 'track', 'artist', 'genre', '  city  ', 'time', 'day'], dtype='object')\n"
     ]
    }
   ],
   "source": [
    "# Percorrendo os cabeçalhos e convertendo tudo em minúsculos\n",
    "df.columns = [col.lower() for col in df.columns]\n",
    "print (df.columns)"
   ]
  },
  {
   "cell_type": "markdown",
   "metadata": {
    "id": "pweIRxjSzPYW"
   },
   "source": [
    "Agora, usando a mesma abordagem, exclua os espaços no início e no final de cada nome de coluna e imprima os nomes das colunas novamente:"
   ]
  },
  {
   "cell_type": "code",
   "execution_count": null,
   "metadata": {
    "id": "vVQXbFyJzSYl",
    "trusted": false
   },
   "outputs": [
    {
     "name": "stdout",
     "output_type": "stream",
     "text": [
      "Index(['userid', 'track', 'artist', 'genre', 'city', 'time', 'day'], dtype='object')\n"
     ]
    }
   ],
   "source": [
    "# Percorrendo os cabeçalhos e removendo os espaços\n",
    "df.columns = [col.strip().lower() for col in df.columns] \n",
    "print(df.columns)"
   ]
  },
  {
   "cell_type": "markdown",
   "metadata": {
    "id": "yCb8MW1JzURd"
   },
   "source": [
    "Precisamos aplicar a regra de sublinhado no lugar de espaço à coluna `userid`. Deveria ser `user_id`. Renomeie essa coluna e imprima os nomes de todas as colunas quando terminar."
   ]
  },
  {
   "cell_type": "code",
   "execution_count": null,
   "metadata": {
    "id": "ISlFqs5y_Zct",
    "trusted": false
   },
   "outputs": [
    {
     "name": "stdout",
     "output_type": "stream",
     "text": [
      "Index(['user_id', 'track', 'artist', 'genre', 'city', 'time', 'day'], dtype='object')\n"
     ]
    }
   ],
   "source": [
    "# Renomeando a coluna \"userid\"\n",
    "df = df.rename(columns={'userid':'user_id'})\n",
    "print (df.columns)"
   ]
  },
  {
   "cell_type": "markdown",
   "metadata": {
    "id": "1dqbh00J_Zct"
   },
   "source": [
    "Verifique o resultado. Imprima os cabeçalhos novamente:"
   ]
  },
  {
   "cell_type": "code",
   "execution_count": null,
   "metadata": {
    "id": "d4NOAmTW_Zct",
    "trusted": false
   },
   "outputs": [
    {
     "name": "stdout",
     "output_type": "stream",
     "text": [
      "Index(['user_id', 'track', 'artist', 'genre', 'city', 'time', 'day'], dtype='object')\n"
     ]
    }
   ],
   "source": [
    "# verificando o resultado: a lista de cabeçalhos\n",
    "print(df.columns)"
   ]
  },
  {
   "cell_type": "markdown",
   "metadata": {
    "id": "xYJk6ksJVpOl"
   },
   "source": [
    "[Voltar ao Índice](#back)"
   ]
  },
  {
   "cell_type": "markdown",
   "metadata": {
    "id": "5ISfbcfY_Zct"
   },
   "source": [
    "### Valores Ausentes <a id='missing_values'></a>\n",
    " Primeiro, encontre a quantidade de valores ausentes na tabela. Você precisa usar dois métodos em sequência para obter o número de valores ausentes."
   ]
  },
  {
   "cell_type": "code",
   "execution_count": null,
   "metadata": {
    "id": "RskX29qr_Zct",
    "trusted": false
   },
   "outputs": [
    {
     "name": "stdout",
     "output_type": "stream",
     "text": [
      "user_id       0\n",
      "track      1343\n",
      "artist     7567\n",
      "genre      1198\n",
      "city          0\n",
      "time          0\n",
      "day           0\n",
      "dtype: int64\n"
     ]
    }
   ],
   "source": [
    "# calculando o número de valores ausentes\n",
    "print(df.isna().sum())"
   ]
  },
  {
   "cell_type": "markdown",
   "metadata": {
    "id": "qubhgnlO_Zct"
   },
   "source": [
    "Nem todos os valores ausentes afetam a pesquisa. Por exemplo, os valores ausentes em `track` e `artist` não são críticos. Você pode simplesmente substituí-los por valores padrão, como a string `'unknown'`.\n",
    "\n",
    "Mas valores ausentes em `'genre'` podem afetar a comparação de preferências musicais de Springfield e Shelbyville. Na vida real, seria útil descobrir as razões pelas quais os dados estão ausentes e tentar corrigi-los. Mas nós não temos essa possibilidade neste projeto. Então, você terá que:\n",
    "* Preencha esses valores ausentes com um valor padrão\n",
    "* Avalie em que medida os valores ausentes podem afetar sua análise"
   ]
  },
  {
   "cell_type": "markdown",
   "metadata": {
    "id": "fSv2laPA_Zct"
   },
   "source": [
    "Substitua os valores ausentes nas colunas `'track'`, `'artist'` e `'genre'` pela string `'unknown'`. Como mostramos nas lições anteriores, a melhor maneira de fazer isso é criar uma lista para armazenar os nomes das colunas nas quais precisamos fazer a substituição. Em seguida, use essa lista e percorra as colunas nas quais a substituição seja necessária e faça a substituição."
   ]
  },
  {
   "cell_type": "code",
   "execution_count": null,
   "metadata": {
    "id": "KplB5qWs_Zct",
    "trusted": false
   },
   "outputs": [],
   "source": [
    "# percorrendo os cabeçalhos e substituindo valores ausentes por 'unknown'\n",
    "cols_to_replace = ['track', 'artist','genre']\n",
    "for col in cols_to_replace: \n",
    "    df[col] = df[col].fillna('unknown')"
   ]
  },
  {
   "cell_type": "markdown",
   "metadata": {
    "id": "Ilsm-MZo_Zct"
   },
   "source": [
    "Agora verifique o resultado para ter certeza de que o conjunto de dados não contenha valores ausentes após a substituição. Para fazer isso, conte os valores ausentes novamente."
   ]
  },
  {
   "cell_type": "code",
   "execution_count": null,
   "metadata": {
    "id": "Tq4nYRX4_Zct",
    "trusted": false
   },
   "outputs": [
    {
     "name": "stdout",
     "output_type": "stream",
     "text": [
      "track     0\n",
      "artist    0\n",
      "genre     0\n",
      "dtype: int64\n"
     ]
    }
   ],
   "source": [
    "# contando os valores ausentes\n",
    "print(df[cols_to_replace].isna().sum())"
   ]
  },
  {
   "cell_type": "markdown",
   "metadata": {
    "id": "74ZIBmq9VrsK"
   },
   "source": [
    "[Voltar ao Índice](#back)"
   ]
  },
  {
   "cell_type": "markdown",
   "metadata": {
    "id": "BWKRtBJ3_Zct"
   },
   "source": [
    "### Duplicados <a id='duplicates'></a>\n",
    "Encontre o número de duplicados explícitos na tabela. Lembre-se de que você precisa aplicar dois métodos em sequência para obter o número de duplicados explícitos."
   ]
  },
  {
   "cell_type": "code",
   "execution_count": null,
   "metadata": {
    "id": "36eES_S0_Zct",
    "trusted": false
   },
   "outputs": [
    {
     "name": "stdout",
     "output_type": "stream",
     "text": [
      "3826\n"
     ]
    }
   ],
   "source": [
    "# contando duplicados explícitos\n",
    "print(df.duplicated().sum())"
   ]
  },
  {
   "cell_type": "markdown",
   "metadata": {
    "id": "Ot25h6XR_Zct"
   },
   "source": [
    "Agora descarte todos os duplicados. Para fazer isso, chame o método que faz exatamente isso."
   ]
  },
  {
   "cell_type": "code",
   "execution_count": null,
   "metadata": {
    "id": "exFHq6tt_Zct",
    "trusted": false
   },
   "outputs": [],
   "source": [
    "# removendo duplicados explícitos\n",
    "df = df.drop_duplicates()\n"
   ]
  },
  {
   "cell_type": "markdown",
   "metadata": {
    "id": "Im2YwBEG_Zct"
   },
   "source": [
    "Agora vamos verificar se descartamos todos os duplicados. Conte duplicados explícitos mais uma vez para ter certeza de que você removeu todos eles:"
   ]
  },
  {
   "cell_type": "code",
   "execution_count": null,
   "metadata": {
    "id": "-8PuNWQ0_Zct",
    "trusted": false
   },
   "outputs": [
    {
     "name": "stdout",
     "output_type": "stream",
     "text": [
      "0\n"
     ]
    }
   ],
   "source": [
    "# verificando duplicados novamente\n",
    "print(df.duplicated().sum())\n"
   ]
  },
  {
   "cell_type": "markdown",
   "metadata": {
    "id": "QlFBsxAr_Zct"
   },
   "source": [
    "Agora queremos nos livrar dos duplicados implícitos na coluna `genre`. Por exemplo, o nome de um gênero pode ser escrito de maneiras diferentes. Alguns erros afetarão também o resultado."
   ]
  },
  {
   "cell_type": "markdown",
   "metadata": {
    "id": "eSjWwsOh_Zct"
   },
   "source": [
    "Para fazer isso, vamos começar imprimindo uma lista de nomes de gênero únicos, ordenados em ordem alfabética: Para fazer isso:\n",
    "* Extraia a coluna `genre` do DataFrame\n",
    "* Chame o método que retornará todos os valores únicos na coluna extraída\n"
   ]
  },
  {
   "cell_type": "code",
   "execution_count": null,
   "metadata": {
    "id": "JIUcqzZN_Zct",
    "trusted": false
   },
   "outputs": [
    {
     "name": "stdout",
     "output_type": "stream",
     "text": [
      "['acid', 'acoustic', 'action', 'adult', 'africa', 'afrikaans', 'alternative', 'ambient', 'americana', 'animated', 'anime', 'arabesk', 'arabic', 'arena', 'argentinetango', 'art', 'audiobook', 'avantgarde', 'axé', 'baile', 'balkan', 'beats', 'bigroom', 'black', 'bluegrass', 'blues', 'bollywood', 'bossa', 'brazilian', 'breakbeat', 'breaks', 'broadway', 'cantautori', 'cantopop', 'canzone', 'caribbean', 'caucasian', 'celtic', 'chamber', 'children', 'chill', 'chinese', 'choral', 'christian', 'christmas', 'classical', 'classicmetal', 'club', 'colombian', 'comedy', 'conjazz', 'contemporary', 'country', 'cuban', 'dance', 'dancehall', 'dancepop', 'dark', 'death', 'deep', 'deutschrock', 'deutschspr', 'dirty', 'disco', 'dnb', 'documentary', 'downbeat', 'downtempo', 'drum', 'dub', 'dubstep', 'eastern', 'easy', 'electronic', 'electropop', 'emo', 'entehno', 'epicmetal', 'estrada', 'ethnic', 'eurofolk', 'european', 'experimental', 'extrememetal', 'fado', 'film', 'fitness', 'flamenco', 'folk', 'folklore', 'folkmetal', 'folkrock', 'folktronica', 'forró', 'frankreich', 'französisch', 'french', 'funk', 'future', 'gangsta', 'garage', 'german', 'ghazal', 'gitarre', 'glitch', 'gospel', 'gothic', 'grime', 'grunge', 'gypsy', 'handsup', \"hard'n'heavy\", 'hardcore', 'hardstyle', 'hardtechno', 'hip', 'hip-hop', 'hiphop', 'historisch', 'holiday', 'hop', 'horror', 'house', 'idm', 'independent', 'indian', 'indie', 'indipop', 'industrial', 'inspirational', 'instrumental', 'international', 'irish', 'jam', 'japanese', 'jazz', 'jewish', 'jpop', 'jungle', 'k-pop', 'karadeniz', 'karaoke', 'kayokyoku', 'korean', 'laiko', 'latin', 'latino', 'leftfield', 'local', 'lounge', 'loungeelectronic', 'lovers', 'malaysian', 'mandopop', 'marschmusik', 'meditative', 'mediterranean', 'melodic', 'metal', 'metalcore', 'mexican', 'middle', 'minimal', 'miscellaneous', 'modern', 'mood', 'mpb', 'muslim', 'native', 'neoklassik', 'neue', 'new', 'newage', 'newwave', 'nu', 'nujazz', 'numetal', 'oceania', 'old', 'opera', 'orchestral', 'other', 'piano', 'pop', 'popelectronic', 'popeurodance', 'post', 'posthardcore', 'postrock', 'power', 'progmetal', 'progressive', 'psychedelic', 'punjabi', 'punk', 'quebecois', 'ragga', 'ram', 'rancheras', 'rap', 'rave', 'reggae', 'reggaeton', 'regional', 'relax', 'religious', 'retro', 'rhythm', 'rnb', 'rnr', 'rock', 'rockabilly', 'romance', 'roots', 'ruspop', 'rusrap', 'rusrock', 'salsa', 'samba', 'schlager', 'self', 'sertanejo', 'shoegazing', 'showtunes', 'singer', 'ska', 'slow', 'smooth', 'soul', 'soulful', 'sound', 'soundtrack', 'southern', 'specialty', 'speech', 'spiritual', 'sport', 'stonerrock', 'surf', 'swing', 'synthpop', 'sängerportrait', 'tango', 'tanzorchester', 'taraftar', 'tech', 'techno', 'thrash', 'top', 'traditional', 'tradjazz', 'trance', 'tribal', 'trip', 'triphop', 'tropical', 'türk', 'türkçe', 'unknown', 'urban', 'uzbek', 'variété', 'vi', 'videogame', 'vocal', 'western', 'world', 'worldbeat', 'ïîï']\n"
     ]
    }
   ],
   "source": [
    "# visualizando nomes de gêneros únicos\n",
    "unique_genres = df['genre'].unique()\n",
    "print(sorted(unique_genres))"
   ]
  },
  {
   "cell_type": "markdown",
   "metadata": {
    "id": "qej-Qmuo_Zct"
   },
   "source": [
    "Olhe a lista e encontre duplicados implícitos do gênero `hiphop`. Esses podem ser nomes escritos incorretamente, ou nomes alternativos para o mesmo gênero.\n",
    "\n",
    "Você verá os seguintes duplicados implícitos:\n",
    "* `hip`\n",
    "* `hop`\n",
    "* `hip-hop`\n",
    "\n",
    "Para se livrar deles, crie uma função `replace_wrong_genres()` com dois parâmetros:\n",
    "* `wrong_genres=` — essa é uma lista que contém todos os valores que você precisa substituir\n",
    "* `correct_genre=` — essa é uma string que você vai usar para a substituição\n",
    "\n",
    "Como resultado, a função deve corrigir os nomes na coluna `'genre'` da tabela `df`, isto é, substituindo cada valor da lista `wrong_genres` por valores de `correct_genre`.\n",
    "\n",
    "Dentro do corpo da função, use um ciclo `'for'` para percorrer a lista de gêneros errados, extrair a coluna `'genre'` e aplicar o método `replace` para fazer as correções."
   ]
  },
  {
   "cell_type": "code",
   "execution_count": null,
   "metadata": {
    "id": "ErNDkmns_Zct",
    "trusted": false
   },
   "outputs": [],
   "source": [
    "# função para substituir duplicados implícitos\n",
    "def replace_wrong_genres(wrong_genres, correct_genre):\n",
    "    for wrong in wrong_genres:\n",
    "        df['genre'] = df['genre'].replace(wrong, correct_genre)\n"
   ]
  },
  {
   "cell_type": "markdown",
   "metadata": {
    "id": "aDoBJxbA_Zct"
   },
   "source": [
    "Agora, chame a função `replace_wrong_genres()` e passe argumentos apropriados para que ela limpe duplicados implícitos (`hip`, `hop` e `hip-hop`) substituindo-os por `hiphop`:"
   ]
  },
  {
   "cell_type": "code",
   "execution_count": null,
   "metadata": {
    "id": "YN5i2hpmSo09",
    "trusted": false
   },
   "outputs": [],
   "source": [
    "# removendo duplicados implícitos\n",
    "# Lista de gêneros errados\n",
    "wrong_hiphop = ['hip', 'hop', 'hip-hop']\n",
    "\n",
    "# Chamando a função para corrigir\n",
    "replace_wrong_genres(wrong_hiphop, 'hiphop')\n"
   ]
  },
  {
   "cell_type": "markdown",
   "metadata": {
    "id": "zQKF16_RG15m"
   },
   "source": [
    "Certifique-se que os nomes duplicados foram removidos. Imprima a lista de valores únicos da coluna `'genre'` mais uma vez:"
   ]
  },
  {
   "cell_type": "code",
   "execution_count": null,
   "metadata": {
    "id": "wvixALnFG15m",
    "trusted": false
   },
   "outputs": [
    {
     "name": "stdout",
     "output_type": "stream",
     "text": [
      "['acid', 'acoustic', 'action', 'adult', 'africa', 'afrikaans', 'alternative', 'ambient', 'americana', 'animated', 'anime', 'arabesk', 'arabic', 'arena', 'argentinetango', 'art', 'audiobook', 'avantgarde', 'axé', 'baile', 'balkan', 'beats', 'bigroom', 'black', 'bluegrass', 'blues', 'bollywood', 'bossa', 'brazilian', 'breakbeat', 'breaks', 'broadway', 'cantautori', 'cantopop', 'canzone', 'caribbean', 'caucasian', 'celtic', 'chamber', 'children', 'chill', 'chinese', 'choral', 'christian', 'christmas', 'classical', 'classicmetal', 'club', 'colombian', 'comedy', 'conjazz', 'contemporary', 'country', 'cuban', 'dance', 'dancehall', 'dancepop', 'dark', 'death', 'deep', 'deutschrock', 'deutschspr', 'dirty', 'disco', 'dnb', 'documentary', 'downbeat', 'downtempo', 'drum', 'dub', 'dubstep', 'eastern', 'easy', 'electronic', 'electropop', 'emo', 'entehno', 'epicmetal', 'estrada', 'ethnic', 'eurofolk', 'european', 'experimental', 'extrememetal', 'fado', 'film', 'fitness', 'flamenco', 'folk', 'folklore', 'folkmetal', 'folkrock', 'folktronica', 'forró', 'frankreich', 'französisch', 'french', 'funk', 'future', 'gangsta', 'garage', 'german', 'ghazal', 'gitarre', 'glitch', 'gospel', 'gothic', 'grime', 'grunge', 'gypsy', 'handsup', \"hard'n'heavy\", 'hardcore', 'hardstyle', 'hardtechno', 'hiphop', 'historisch', 'holiday', 'horror', 'house', 'idm', 'independent', 'indian', 'indie', 'indipop', 'industrial', 'inspirational', 'instrumental', 'international', 'irish', 'jam', 'japanese', 'jazz', 'jewish', 'jpop', 'jungle', 'k-pop', 'karadeniz', 'karaoke', 'kayokyoku', 'korean', 'laiko', 'latin', 'latino', 'leftfield', 'local', 'lounge', 'loungeelectronic', 'lovers', 'malaysian', 'mandopop', 'marschmusik', 'meditative', 'mediterranean', 'melodic', 'metal', 'metalcore', 'mexican', 'middle', 'minimal', 'miscellaneous', 'modern', 'mood', 'mpb', 'muslim', 'native', 'neoklassik', 'neue', 'new', 'newage', 'newwave', 'nu', 'nujazz', 'numetal', 'oceania', 'old', 'opera', 'orchestral', 'other', 'piano', 'pop', 'popelectronic', 'popeurodance', 'post', 'posthardcore', 'postrock', 'power', 'progmetal', 'progressive', 'psychedelic', 'punjabi', 'punk', 'quebecois', 'ragga', 'ram', 'rancheras', 'rap', 'rave', 'reggae', 'reggaeton', 'regional', 'relax', 'religious', 'retro', 'rhythm', 'rnb', 'rnr', 'rock', 'rockabilly', 'romance', 'roots', 'ruspop', 'rusrap', 'rusrock', 'salsa', 'samba', 'schlager', 'self', 'sertanejo', 'shoegazing', 'showtunes', 'singer', 'ska', 'slow', 'smooth', 'soul', 'soulful', 'sound', 'soundtrack', 'southern', 'specialty', 'speech', 'spiritual', 'sport', 'stonerrock', 'surf', 'swing', 'synthpop', 'sängerportrait', 'tango', 'tanzorchester', 'taraftar', 'tech', 'techno', 'thrash', 'top', 'traditional', 'tradjazz', 'trance', 'tribal', 'trip', 'triphop', 'tropical', 'türk', 'türkçe', 'unknown', 'urban', 'uzbek', 'variété', 'vi', 'videogame', 'vocal', 'western', 'world', 'worldbeat', 'ïîï']\n"
     ]
    }
   ],
   "source": [
    "# verificando valores duplicados\n",
    "unique_genres = df['genre'].unique()\n",
    "print(sorted(unique_genres))"
   ]
  },
  {
   "cell_type": "markdown",
   "metadata": {
    "id": "ALgNbvF3VtPA"
   },
   "source": [
    "[Voltar ao Índice](#back)"
   ]
  },
  {
   "cell_type": "markdown",
   "metadata": {
    "id": "jz6a9-7HQUDd"
   },
   "source": [
    "### Suas observações <a id='data_preprocessing_conclusions'></a>\n",
    "\n",
    "` Descreva brevemente o que você reparou ao analisar duplicados, bem como a abordagem que usou para eliminá-los e os resultados que alcançou.`\n",
    "Identifiquei duplicados explicitos e implicitos. Para isso, apliquei as fórmulas acima para melhorar as qualidades dos dados garantindo que as análises se tornem mais precisas."
   ]
  },
  {
   "cell_type": "markdown",
   "metadata": {
    "id": "eK1es74rVujj"
   },
   "source": [
    "[Voltar ao Índice](#back)"
   ]
  },
  {
   "cell_type": "markdown",
   "metadata": {
    "id": "WttZHXH0SqKk"
   },
   "source": [
    "## Etapa 3. Teste da hipótese <a id='hypothesis'></a>"
   ]
  },
  {
   "cell_type": "markdown",
   "metadata": {
    "id": "Im936VVi_Zcu"
   },
   "source": [
    "### Hipótese: comparação do comportamento dos usuários nas duas cidades <a id='activity'></a>"
   ]
  },
  {
   "cell_type": "markdown",
   "metadata": {
    "id": "nwt_MuaL_Zcu"
   },
   "source": [
    "A hipótese afirma que existem diferenças no consumo de música pelos usuários em Springfield e em Shelbyville. Para testar a hipótese, use os dados dos três dias da semana: segunda-feira (Monday), quarta-feira (Wednesday) e sexta-feira (Friday).\n",
    "\n",
    "* Agrupe os usuários por cidade.\n",
    "* Compare o número de músicas tocadas por cada grupo na segunda, quarta e sexta.\n"
   ]
  },
  {
   "cell_type": "markdown",
   "metadata": {
    "id": "8Dw_YMmT_Zcu"
   },
   "source": [
    "Execute cada cálculo separadamente.\n",
    "\n",
    "O primeiro passo é avaliar a atividade dos usuários em cada cidade. Não se esqueça das etapas \"divisão-aplicação-combinação\" sobre as quais falamos anteriormente na lição. Agora seu objetivo é agrupar os dados por cidade, aplicar o método de contagem apropriado durante a etapa de aplicação e então encontrar o número de músicas tocadas por cada grupo, especificando a coluna para a qual você quer obter a contagem.\n",
    "\n",
    "Veja um exemplo de como o resultado final deve ser:\n",
    "`df.groupby(by='....')['column'].method()` Execute cada cálculo separadamente.\n",
    "\n",
    "Para avaliar a atividade dos usuários em cada cidade, agrupe os dados por cidade e encontre o número de músicas reproduzidas em cada grupo.\n",
    "\n"
   ]
  },
  {
   "cell_type": "code",
   "execution_count": null,
   "metadata": {
    "id": "0_Qs96oh_Zcu",
    "scrolled": false,
    "trusted": false
   },
   "outputs": [
    {
     "name": "stdout",
     "output_type": "stream",
     "text": [
      "          city  total_reproducoes\n",
      "0  Shelbyville              18512\n",
      "1  Springfield              42741\n"
     ]
    }
   ],
   "source": [
    "# Contando as músicas tocadas em cada cidade\n",
    "#import pandas as pd\n",
    "#df= pd.read_csv('/datasets/music_project_en.csv')\n",
    "#df.columns = df.columns.str.strip()\n",
    "reproducoes_por_cidade = df.groupby('city').size().reset_index(name='total_reproducoes')\n",
    "print(reproducoes_por_cidade)\n"
   ]
  },
  {
   "cell_type": "markdown",
   "metadata": {},
   "source": [
    "<div class=\"alert alert-block alert-danger\">\n",
    "<b> Comentário do revisor: </b> <a class=\"tocSkip\"></a>\n",
    "\n",
    "Leitura repetida csv. Perdeu todas as transformações\n",
    "</div>\n"
   ]
  },
  {
   "cell_type": "markdown",
   "metadata": {},
   "source": [
    "<div class=\"alert alert-block alert-success\">\n",
    "<b> Comentário do revisor v2: </b> <a class=\"tocSkip\"></a>\n",
    "\n",
    "correto\n",
    "\n",
    "</div>"
   ]
  },
  {
   "cell_type": "markdown",
   "metadata": {
    "id": "t_Qx-3NewAnK"
   },
   "source": [
    "`Comente sobre suas observações aqui` Realmente, existe uma diferença entre as cidades. Enquanto Shelbyville tem um total de reproduções de 19719, Springfield é de 45360. "
   ]
  },
  {
   "cell_type": "markdown",
   "metadata": {
    "id": "dzli3w8o_Zcu"
   },
   "source": [
    "Agora vamos agrupar os dados por dia da semana e encontrar a quantidade de músicas tocadas na segunda, quarta e sexta-feira. Use a mesma abordagem que antes, mas agora precisamos agrupar os dados de uma forma diferente.\n"
   ]
  },
  {
   "cell_type": "code",
   "execution_count": null,
   "metadata": {
    "id": "uZMKjiJz_Zcu",
    "trusted": false
   },
   "outputs": [
    {
     "name": "stdout",
     "output_type": "stream",
     "text": [
      "         day  total_reproducoes\n",
      "0     Friday              21840\n",
      "1     Monday              21354\n",
      "2  Wednesday              18059\n"
     ]
    }
   ],
   "source": [
    "# Calculando as músicas escutadas em cada um desses três dias\n",
    "#import pandas as pd\n",
    "\n",
    "#df = pd.read_csv('/datasets/music_project_en.csv')\n",
    "#df.columns = df.columns.str.strip() \n",
    "\n",
    "# Filtrar apenas as músicas tocadas na segunda, quarta e sexta\n",
    "dias_filtrados = ['Monday', 'Wednesday', 'Friday']\n",
    "df_filtrado = df[df['day'].isin(dias_filtrados)]\n",
    "\n",
    "# Agrupar por dia da semana e contar as músicas\n",
    "reproducoes_por_dia = df_filtrado.groupby('day').size().reset_index(name='total_reproducoes')\n",
    "\n",
    "# Exibir resultado\n",
    "print(reproducoes_por_dia)"
   ]
  },
  {
   "cell_type": "markdown",
   "metadata": {},
   "source": [
    "<div class=\"alert alert-block alert-danger\">\n",
    "<b> Comentário do revisor: </b> <a class=\"tocSkip\"></a>\n",
    "\n",
    "Leitura repetida csv. Perdeu todas as transformações\n",
    "</div>\n"
   ]
  },
  {
   "cell_type": "markdown",
   "metadata": {},
   "source": [
    "<div class=\"alert alert-block alert-success\">\n",
    "<b> Comentário do revisor v2: </b> <a class=\"tocSkip\"></a>\n",
    "\n",
    "correto\n",
    "\n",
    "</div>"
   ]
  },
  {
   "cell_type": "markdown",
   "metadata": {
    "id": "cC2tNrlL_Zcu"
   },
   "source": [
    "`Comente sobre suas observações aqui`O dia da semana que as pessoas mais escutam música é na sexta feira"
   ]
  },
  {
   "cell_type": "markdown",
   "metadata": {
    "id": "POzs8bGa_Zcu"
   },
   "source": [
    "Você acabou de aprender como contar entradas agrupando-as por cidade ou por dia. E agora você precisa escrever uma função que possa contar entradas simultaneamente com base em ambos os critérios.\n",
    "\n",
    "Crie a função `number_tracks()` para calcular o número de músicas tocadas em um determinado dia **e** em uma determinada cidade. A função deve aceitar dois parâmetros:\n",
    "\n",
    "- `day`: um dia da semana pelo qual precisamos filtrar os dados. Por exemplo, `'Monday'`.\n",
    "- `city`: uma cidade pela qual precisamos filtrar os dados. Por exemplo, `'Springfield'`.\n",
    "\n",
    "Dentro da função, você vai aplicar uma filtragem consecutiva com indexação lógica.\n",
    "\n",
    "Primeiro, filtre os dados por dia e então filtre a tabela resultante por cidade.\n",
    "\n",
    "Depois de filtrar os dados usando os dois critérios, conte o número de valores na coluna 'user_id' da tabela resultante. O resultado da contagem representará o número de entradas que você quer encontrar. Armazene o resultado em uma nova variável e imprima-o."
   ]
  },
  {
   "cell_type": "code",
   "execution_count": null,
   "metadata": {
    "id": "Nz3GdQB1_Zcu",
    "trusted": false
   },
   "outputs": [],
   "source": [
    "# Declare a função number_tracks() com dois parâmetros: day= e city=.\n",
    "def number_tracks(day=None, city=None):\n",
    "# Armazene as linhas do DataFrame em que o valor na coluna 'Day' é igual ao parâmetro day=\n",
    "    df_day = df[df['day'] == day]\n",
    "# Filtre as linhas em que o valor na coluna 'City' é igual ao parâmetro city=\n",
    "    df_city_day = df_day[df_day['city'] == city]\n",
    "# Extraia a coluna 'userID' da tabela filtrada e aplique o método count()\n",
    "    track_count = df_city_day['user_id'].count()\n",
    "# Retorne o número dos valores da coluna 'userID'\n",
    "    return track_count\n"
   ]
  },
  {
   "cell_type": "markdown",
   "metadata": {
    "id": "ytf7xFrFJQ2r"
   },
   "source": [
    "Chame a função `number_tracks()` seis vezes, mudando os valores dos parâmetros, para que você possa recuperar os dados de ambas as cidades para cada um dos três dias."
   ]
  },
  {
   "cell_type": "code",
   "execution_count": null,
   "metadata": {
    "id": "rJcRATNQ_Zcu",
    "trusted": false
   },
   "outputs": [
    {
     "data": {
      "text/plain": [
       "15740"
      ]
     },
     "execution_count": 23,
     "metadata": {},
     "output_type": "execute_result"
    }
   ],
   "source": [
    "# a quantidade de músicas tocadas em Springfield na segunda-feira\n",
    "number_tracks(day='Monday', city='Springfield')"
   ]
  },
  {
   "cell_type": "code",
   "execution_count": null,
   "metadata": {
    "id": "hq_ncZ5T_Zcu",
    "trusted": false
   },
   "outputs": [
    {
     "data": {
      "text/plain": [
       "5614"
      ]
     },
     "execution_count": 24,
     "metadata": {},
     "output_type": "execute_result"
    }
   ],
   "source": [
    "# a quantidade de músicas tocadas em Shelbyville na segunda-feira\n",
    "number_tracks(day='Monday', city='Shelbyville')"
   ]
  },
  {
   "cell_type": "code",
   "execution_count": null,
   "metadata": {
    "id": "_NTy2VPU_Zcu",
    "trusted": false
   },
   "outputs": [
    {
     "data": {
      "text/plain": [
       "11056"
      ]
     },
     "execution_count": 25,
     "metadata": {},
     "output_type": "execute_result"
    }
   ],
   "source": [
    "# a quantidade de músicas tocadas em Springfield na quarta-feira\n",
    "number_tracks(day='Wednesday', city='Springfield')"
   ]
  },
  {
   "cell_type": "code",
   "execution_count": null,
   "metadata": {
    "id": "j2y3TAwo_Zcu",
    "trusted": false
   },
   "outputs": [
    {
     "data": {
      "text/plain": [
       "7003"
      ]
     },
     "execution_count": 26,
     "metadata": {},
     "output_type": "execute_result"
    }
   ],
   "source": [
    "# a quantidade de músicas tocadas em Shelbyville na quarta-feira\n",
    "number_tracks(day='Wednesday', city='Shelbyville')"
   ]
  },
  {
   "cell_type": "code",
   "execution_count": null,
   "metadata": {
    "id": "vYDw5u_K_Zcu",
    "trusted": false
   },
   "outputs": [
    {
     "data": {
      "text/plain": [
       "15945"
      ]
     },
     "execution_count": 27,
     "metadata": {},
     "output_type": "execute_result"
    }
   ],
   "source": [
    "# a quantidade de músicas tocadas em Springfield na sexta-feira\n",
    "number_tracks(day='Friday', city='Springfield')"
   ]
  },
  {
   "cell_type": "code",
   "execution_count": null,
   "metadata": {
    "id": "8_yzFtW3_Zcu",
    "trusted": false
   },
   "outputs": [
    {
     "data": {
      "text/plain": [
       "5895"
      ]
     },
     "execution_count": 28,
     "metadata": {},
     "output_type": "execute_result"
    }
   ],
   "source": [
    "# a quantidade de músicas tocadas em Shelbyville na sexta-feira\n",
    "number_tracks(day='Friday', city='Shelbyville')"
   ]
  },
  {
   "cell_type": "markdown",
   "metadata": {
    "id": "-EgPIHYu_Zcu"
   },
   "source": [
    "**Conclusões**\n",
    "\n",
    "`Comente sobre se a terceira hipótese está correta ou deve ser rejeitada. Explique seu raciocínio.` A atividade dos usuários é diferente dependendo do dia da semana e da cidade. A hipótese está correta. A atividade dos usuários realmente é diferente dependendo do dia da semana e da cidade. Ao rodarmos os códigos, conseguimos ver que nenhum número bate. \n"
   ]
  },
  {
   "cell_type": "markdown",
   "metadata": {
    "id": "p7nFQajCVw5B"
   },
   "source": [
    "[Voltar ao Índice](#back)"
   ]
  },
  {
   "cell_type": "markdown",
   "metadata": {
    "id": "ykKQ0N65_Zcv"
   },
   "source": [
    "# Conclusões <a id='end'></a>"
   ]
  },
  {
   "cell_type": "markdown",
   "metadata": {
    "id": "tjUwbHb3_Zcv"
   },
   "source": [
    "`Resuma suas conclusões sobre a hipótese aqui` A hipótese está certa sobre a atividade dos usuários ser diferente dependendo do dia da semana e da cidade. No geral, em Springfield, todos os dias escutam mais música do quem em Shelbyville e em nenhum dos dias escutam a mesma quantidade de músicas. Sexta feira é o dia que mais escutam música em Springfield e de quarta feira em Shelbyville. \n"
   ]
  },
  {
   "cell_type": "markdown",
   "metadata": {
    "id": "Ju4AHDSgV1FE"
   },
   "source": [
    "[Voltar ao Índice](#back)"
   ]
  }
 ],
 "metadata": {
  "ExecuteTimeLog": [
   {
    "duration": 177,
    "start_time": "2025-04-07T19:45:25.149Z"
   },
   {
    "duration": 326,
    "start_time": "2025-04-07T19:46:36.506Z"
   },
   {
    "duration": 3,
    "start_time": "2025-04-07T19:46:40.019Z"
   },
   {
    "duration": 2,
    "start_time": "2025-04-07T19:46:44.083Z"
   },
   {
    "duration": 113,
    "start_time": "2025-04-07T19:50:37.711Z"
   },
   {
    "duration": 6,
    "start_time": "2025-04-07T19:52:45.203Z"
   },
   {
    "duration": 24,
    "start_time": "2025-04-07T19:54:24.265Z"
   },
   {
    "duration": 3,
    "start_time": "2025-04-07T20:19:33.847Z"
   },
   {
    "duration": 4,
    "start_time": "2025-04-07T20:21:13.975Z"
   },
   {
    "duration": 3,
    "start_time": "2025-04-07T20:23:37.112Z"
   },
   {
    "duration": 4,
    "start_time": "2025-04-07T20:23:48.835Z"
   },
   {
    "duration": 4,
    "start_time": "2025-04-07T20:24:20.534Z"
   },
   {
    "duration": 10,
    "start_time": "2025-04-07T20:26:58.784Z"
   },
   {
    "duration": 3,
    "start_time": "2025-04-07T20:27:30.686Z"
   },
   {
    "duration": 7,
    "start_time": "2025-04-07T20:29:23.922Z"
   },
   {
    "duration": 18,
    "start_time": "2025-04-07T20:29:38.789Z"
   },
   {
    "duration": 12,
    "start_time": "2025-04-07T20:35:38.767Z"
   },
   {
    "duration": 13,
    "start_time": "2025-04-07T20:36:40.950Z"
   },
   {
    "duration": 17,
    "start_time": "2025-04-07T20:36:56.514Z"
   },
   {
    "duration": 67,
    "start_time": "2025-04-07T20:40:30.066Z"
   },
   {
    "duration": 57,
    "start_time": "2025-04-07T20:40:45.717Z"
   },
   {
    "duration": 55,
    "start_time": "2025-04-07T20:40:55.991Z"
   },
   {
    "duration": 37,
    "start_time": "2025-04-07T20:41:15.791Z"
   },
   {
    "duration": 47,
    "start_time": "2025-04-07T20:41:38.349Z"
   },
   {
    "duration": 44,
    "start_time": "2025-04-07T20:41:41.258Z"
   },
   {
    "duration": 86,
    "start_time": "2025-04-07T20:42:06.423Z"
   },
   {
    "duration": 39,
    "start_time": "2025-04-07T20:43:11.198Z"
   },
   {
    "duration": 6,
    "start_time": "2025-04-07T20:44:28.179Z"
   },
   {
    "duration": 3,
    "start_time": "2025-04-07T20:45:58.678Z"
   },
   {
    "duration": 7,
    "start_time": "2025-04-07T20:46:14.570Z"
   },
   {
    "duration": 6,
    "start_time": "2025-04-07T20:46:36.738Z"
   },
   {
    "duration": 157,
    "start_time": "2025-04-08T14:52:08.606Z"
   },
   {
    "duration": 12,
    "start_time": "2025-04-08T14:52:44.971Z"
   },
   {
    "duration": 12,
    "start_time": "2025-04-08T14:52:48.636Z"
   },
   {
    "duration": 736,
    "start_time": "2025-04-08T14:53:28.600Z"
   },
   {
    "duration": 98,
    "start_time": "2025-04-08T14:54:56.223Z"
   },
   {
    "duration": 472,
    "start_time": "2025-04-08T20:07:42.154Z"
   },
   {
    "duration": 3,
    "start_time": "2025-04-08T20:39:44.707Z"
   },
   {
    "duration": 4,
    "start_time": "2025-04-08T20:39:47.300Z"
   },
   {
    "duration": 3,
    "start_time": "2025-04-08T20:41:16.137Z"
   },
   {
    "duration": 19,
    "start_time": "2025-04-08T20:42:30.639Z"
   },
   {
    "duration": 19,
    "start_time": "2025-04-08T20:42:37.668Z"
   },
   {
    "duration": 16,
    "start_time": "2025-04-08T20:42:40.037Z"
   },
   {
    "duration": 13,
    "start_time": "2025-04-08T20:42:41.421Z"
   },
   {
    "duration": 13,
    "start_time": "2025-04-08T20:42:43.335Z"
   },
   {
    "duration": 14,
    "start_time": "2025-04-08T20:42:44.733Z"
   },
   {
    "duration": 14,
    "start_time": "2025-04-08T20:42:52.487Z"
   },
   {
    "duration": 19,
    "start_time": "2025-04-08T20:42:57.170Z"
   },
   {
    "duration": 320,
    "start_time": "2025-04-08T21:39:47.247Z"
   },
   {
    "duration": 122,
    "start_time": "2025-04-08T21:39:47.569Z"
   },
   {
    "duration": 7,
    "start_time": "2025-04-08T21:39:47.693Z"
   },
   {
    "duration": 22,
    "start_time": "2025-04-08T21:39:47.702Z"
   },
   {
    "duration": 16,
    "start_time": "2025-04-08T21:39:47.727Z"
   },
   {
    "duration": 3,
    "start_time": "2025-04-08T21:39:47.745Z"
   },
   {
    "duration": 3,
    "start_time": "2025-04-08T21:39:47.750Z"
   },
   {
    "duration": 9,
    "start_time": "2025-04-08T21:39:47.755Z"
   },
   {
    "duration": 4,
    "start_time": "2025-04-08T21:39:47.766Z"
   },
   {
    "duration": 25,
    "start_time": "2025-04-08T21:39:47.772Z"
   },
   {
    "duration": 45,
    "start_time": "2025-04-08T21:39:47.799Z"
   },
   {
    "duration": 12,
    "start_time": "2025-04-08T21:39:47.847Z"
   },
   {
    "duration": 41,
    "start_time": "2025-04-08T21:39:47.861Z"
   },
   {
    "duration": 65,
    "start_time": "2025-04-08T21:39:47.906Z"
   },
   {
    "duration": 39,
    "start_time": "2025-04-08T21:39:47.973Z"
   },
   {
    "duration": 5,
    "start_time": "2025-04-08T21:39:48.014Z"
   },
   {
    "duration": 2,
    "start_time": "2025-04-08T21:39:48.021Z"
   },
   {
    "duration": 9,
    "start_time": "2025-04-08T21:39:48.043Z"
   },
   {
    "duration": 9,
    "start_time": "2025-04-08T21:39:48.055Z"
   },
   {
    "duration": 136,
    "start_time": "2025-04-08T21:39:48.067Z"
   },
   {
    "duration": 104,
    "start_time": "2025-04-08T21:39:48.205Z"
   },
   {
    "duration": 3,
    "start_time": "2025-04-08T21:39:48.311Z"
   },
   {
    "duration": 29,
    "start_time": "2025-04-08T21:39:48.316Z"
   },
   {
    "duration": 16,
    "start_time": "2025-04-08T21:39:48.347Z"
   },
   {
    "duration": 13,
    "start_time": "2025-04-08T21:39:48.365Z"
   },
   {
    "duration": 11,
    "start_time": "2025-04-08T21:39:48.380Z"
   },
   {
    "duration": 14,
    "start_time": "2025-04-08T21:39:48.392Z"
   },
   {
    "duration": 49,
    "start_time": "2025-04-08T21:39:48.407Z"
   },
   {
    "duration": 301,
    "start_time": "2025-04-09T13:49:51.566Z"
   },
   {
    "duration": 116,
    "start_time": "2025-04-09T13:49:51.870Z"
   },
   {
    "duration": 7,
    "start_time": "2025-04-09T13:49:51.987Z"
   },
   {
    "duration": 20,
    "start_time": "2025-04-09T13:49:52.005Z"
   },
   {
    "duration": 3,
    "start_time": "2025-04-09T13:49:52.027Z"
   },
   {
    "duration": 4,
    "start_time": "2025-04-09T13:49:52.032Z"
   },
   {
    "duration": 4,
    "start_time": "2025-04-09T13:49:52.038Z"
   },
   {
    "duration": 9,
    "start_time": "2025-04-09T13:49:52.044Z"
   },
   {
    "duration": 3,
    "start_time": "2025-04-09T13:49:52.054Z"
   },
   {
    "duration": 49,
    "start_time": "2025-04-09T13:49:52.059Z"
   },
   {
    "duration": 15,
    "start_time": "2025-04-09T13:49:52.110Z"
   },
   {
    "duration": 13,
    "start_time": "2025-04-09T13:49:52.126Z"
   },
   {
    "duration": 69,
    "start_time": "2025-04-09T13:49:52.141Z"
   },
   {
    "duration": 44,
    "start_time": "2025-04-09T13:49:52.212Z"
   },
   {
    "duration": 52,
    "start_time": "2025-04-09T13:49:52.258Z"
   },
   {
    "duration": 5,
    "start_time": "2025-04-09T13:49:52.312Z"
   },
   {
    "duration": 3,
    "start_time": "2025-04-09T13:49:52.319Z"
   },
   {
    "duration": 7,
    "start_time": "2025-04-09T13:49:52.324Z"
   },
   {
    "duration": 6,
    "start_time": "2025-04-09T13:49:52.333Z"
   },
   {
    "duration": 8,
    "start_time": "2025-04-09T13:49:52.341Z"
   },
   {
    "duration": 139,
    "start_time": "2025-04-09T13:49:52.351Z"
   },
   {
    "duration": 3,
    "start_time": "2025-04-09T13:49:52.492Z"
   },
   {
    "duration": 24,
    "start_time": "2025-04-09T13:49:52.497Z"
   },
   {
    "duration": 13,
    "start_time": "2025-04-09T13:49:52.523Z"
   },
   {
    "duration": 14,
    "start_time": "2025-04-09T13:49:52.538Z"
   },
   {
    "duration": 12,
    "start_time": "2025-04-09T13:49:52.554Z"
   },
   {
    "duration": 42,
    "start_time": "2025-04-09T13:49:52.568Z"
   },
   {
    "duration": 12,
    "start_time": "2025-04-09T13:49:52.614Z"
   },
   {
    "duration": 285,
    "start_time": "2025-04-09T13:51:14.698Z"
   },
   {
    "duration": 95,
    "start_time": "2025-04-09T13:51:14.984Z"
   },
   {
    "duration": 8,
    "start_time": "2025-04-09T13:51:15.081Z"
   },
   {
    "duration": 33,
    "start_time": "2025-04-09T13:51:15.092Z"
   },
   {
    "duration": 3,
    "start_time": "2025-04-09T13:51:15.126Z"
   },
   {
    "duration": 3,
    "start_time": "2025-04-09T13:51:15.131Z"
   },
   {
    "duration": 3,
    "start_time": "2025-04-09T13:51:15.136Z"
   },
   {
    "duration": 9,
    "start_time": "2025-04-09T13:51:15.141Z"
   },
   {
    "duration": 3,
    "start_time": "2025-04-09T13:51:15.152Z"
   },
   {
    "duration": 49,
    "start_time": "2025-04-09T13:51:15.159Z"
   },
   {
    "duration": 12,
    "start_time": "2025-04-09T13:51:15.210Z"
   },
   {
    "duration": 10,
    "start_time": "2025-04-09T13:51:15.224Z"
   },
   {
    "duration": 43,
    "start_time": "2025-04-09T13:51:15.235Z"
   },
   {
    "duration": 71,
    "start_time": "2025-04-09T13:51:15.280Z"
   },
   {
    "duration": 52,
    "start_time": "2025-04-09T13:51:15.353Z"
   },
   {
    "duration": 5,
    "start_time": "2025-04-09T13:51:15.407Z"
   },
   {
    "duration": 3,
    "start_time": "2025-04-09T13:51:15.414Z"
   },
   {
    "duration": 8,
    "start_time": "2025-04-09T13:51:15.418Z"
   },
   {
    "duration": 5,
    "start_time": "2025-04-09T13:51:15.427Z"
   },
   {
    "duration": 8,
    "start_time": "2025-04-09T13:51:15.434Z"
   },
   {
    "duration": 15,
    "start_time": "2025-04-09T13:51:15.443Z"
   },
   {
    "duration": 3,
    "start_time": "2025-04-09T13:51:15.460Z"
   },
   {
    "duration": 16,
    "start_time": "2025-04-09T13:51:15.505Z"
   },
   {
    "duration": 12,
    "start_time": "2025-04-09T13:51:15.523Z"
   },
   {
    "duration": 11,
    "start_time": "2025-04-09T13:51:15.536Z"
   },
   {
    "duration": 12,
    "start_time": "2025-04-09T13:51:15.549Z"
   },
   {
    "duration": 46,
    "start_time": "2025-04-09T13:51:15.562Z"
   },
   {
    "duration": 13,
    "start_time": "2025-04-09T13:51:15.611Z"
   },
   {
    "duration": 321,
    "start_time": "2025-04-09T21:52:40.548Z"
   },
   {
    "duration": 104,
    "start_time": "2025-04-09T21:52:40.871Z"
   },
   {
    "duration": 6,
    "start_time": "2025-04-09T21:52:40.976Z"
   },
   {
    "duration": 20,
    "start_time": "2025-04-09T21:52:40.985Z"
   },
   {
    "duration": 3,
    "start_time": "2025-04-09T21:52:41.023Z"
   },
   {
    "duration": 4,
    "start_time": "2025-04-09T21:52:41.028Z"
   },
   {
    "duration": 3,
    "start_time": "2025-04-09T21:52:41.034Z"
   },
   {
    "duration": 8,
    "start_time": "2025-04-09T21:52:41.039Z"
   },
   {
    "duration": 4,
    "start_time": "2025-04-09T21:52:41.049Z"
   },
   {
    "duration": 16,
    "start_time": "2025-04-09T21:52:41.054Z"
   },
   {
    "duration": 10,
    "start_time": "2025-04-09T21:52:41.072Z"
   },
   {
    "duration": 47,
    "start_time": "2025-04-09T21:52:41.084Z"
   },
   {
    "duration": 43,
    "start_time": "2025-04-09T21:52:41.133Z"
   },
   {
    "duration": 63,
    "start_time": "2025-04-09T21:52:41.180Z"
   },
   {
    "duration": 38,
    "start_time": "2025-04-09T21:52:41.245Z"
   },
   {
    "duration": 5,
    "start_time": "2025-04-09T21:52:41.285Z"
   },
   {
    "duration": 2,
    "start_time": "2025-04-09T21:52:41.292Z"
   },
   {
    "duration": 32,
    "start_time": "2025-04-09T21:52:41.296Z"
   },
   {
    "duration": 5,
    "start_time": "2025-04-09T21:52:41.330Z"
   },
   {
    "duration": 8,
    "start_time": "2025-04-09T21:52:41.337Z"
   },
   {
    "duration": 13,
    "start_time": "2025-04-09T21:52:41.347Z"
   },
   {
    "duration": 3,
    "start_time": "2025-04-09T21:52:41.361Z"
   },
   {
    "duration": 16,
    "start_time": "2025-04-09T21:52:41.366Z"
   },
   {
    "duration": 45,
    "start_time": "2025-04-09T21:52:41.383Z"
   },
   {
    "duration": 11,
    "start_time": "2025-04-09T21:52:41.429Z"
   },
   {
    "duration": 10,
    "start_time": "2025-04-09T21:52:41.442Z"
   },
   {
    "duration": 12,
    "start_time": "2025-04-09T21:52:41.453Z"
   },
   {
    "duration": 10,
    "start_time": "2025-04-09T21:52:41.467Z"
   }
  ],
  "colab": {
   "collapsed_sections": [
    "E0vqbgi9ay0H",
    "VUC88oWjTJw2"
   ],
   "provenance": []
  },
  "kernelspec": {
   "display_name": "Python 3",
   "language": "python",
   "name": "python3"
  },
  "language_info": {
   "codemirror_mode": {
    "name": "ipython",
    "version": 3
   },
   "file_extension": ".py",
   "mimetype": "text/x-python",
   "name": "python",
   "nbconvert_exporter": "python",
   "pygments_lexer": "ipython3",
   "version": "3.9.6"
  },
  "toc": {
   "base_numbering": 1,
   "nav_menu": {},
   "number_sections": true,
   "sideBar": true,
   "skip_h1_title": true,
   "title_cell": "Table of Contents",
   "title_sidebar": "Contents",
   "toc_cell": false,
   "toc_position": {},
   "toc_section_display": true,
   "toc_window_display": false
  }
 },
 "nbformat": 4,
 "nbformat_minor": 1
}

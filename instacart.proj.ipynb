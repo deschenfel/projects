{
 "cells": [
  {
   "cell_type": "markdown",
   "id": "3Xg_RQfnafXz",
   "metadata": {
    "id": "3Xg_RQfnafXz"
   },
   "source": [
    "\n",
    "\n",
    "\n",
    "# Vamos encher o carrinho!"
   ]
  },
  {
   "cell_type": "markdown",
   "id": "mhIvmmkW414q",
   "metadata": {
    "id": "mhIvmmkW414q"
   },
   "source": [
    "# Introdução\n",
    "\n",
    "O Instacart é uma plataforma de entrega de supermercado onde os clientes podem fazer um pedido no supermercado e depois receber sua compra, semelhante ao funcionamento do Uber Eats e do iFood. O conjunto de dados que fornecemos foi modificado a partir do original. Reduzimos o tamanho dele para que seus cálculos sejam executados mais rapidamente e incluímos valores ausentes e duplicados. Também tivemos o cuidado de preservar as distribuições dos dados originais quando fizemos as alterações.\n",
    "\n",
    "Você precisa completar três etapas. Para cada uma delas, escreva uma breve introdução descrevendo como você pretende concluir a etapa e justifique suas decisões em parágrafos explicativos a medida que você avança na solução. Escreva também uma conclusão para resumir suas conclusões e escolhas.\n",
    "\n"
   ]
  },
  {
   "cell_type": "markdown",
   "id": "3MbyzpOQZ5Or",
   "metadata": {
    "id": "3MbyzpOQZ5Or"
   },
   "source": [
    "## Dicionário de dados\n",
    "\n",
    "Há cinco tabelas no conjunto de dados, e você vai precisar usar todas elas para pré-processar seus dados e fazer AED. Abaixo está um dicionário que lista as colunas de cada tabela e descreve os dados contidos nelas.\n",
    "\n",
    "- `instacart_orders.csv`: cada linha corresponde a um pedido no aplicativo da Instacart\n",
    "    - `'order_id'`: é o número que identifica cada pedido de forma exclusiva\n",
    "    - `'user_id'`: é o número de identificação exclusivo da conta de cada cliente\n",
    "    - `'order_number'`: é o número de vezes que o cliente fez um pedido\n",
    "    - `'order_dow'`: é o dia da semana em que o pedido foi feito (0 é domingo)\n",
    "    - `'order_hour_of_day'`: é a hora do dia em que o pedido foi feito\n",
    "    - `'days_since_prior_order'`: é o número de dias desde que o cliente fez seu pedido anterior\n",
    "\n",
    "\n",
    "\n",
    "\n",
    "- `products.csv`: cada linha corresponde a um produto exclusivo que os clientes podem comprar\n",
    "    - `'product_id'`: é o número de identificação unívoco de cada produto\n",
    "    - `'product_name'`: é o nome do produto\n",
    "    - `'aisle_id'`: é o número de identificação exclusivo de cada categoria de corredor do supermercado\n",
    "    - `'department_id'`: é o número de identificação exclusivo de cada categoria de departamento do supermercado\n",
    "\n",
    "\n",
    "\n",
    "\n",
    "-\t`order_products.csv`: cada linha corresponde a um item incluído em um pedido\n",
    "    -\t`'order_id'`: é o número que identifica cada pedido de forma exclusiva\n",
    "    -\t`'product_id'`: é o número de identificação exclusivo de cada produto\n",
    "    -\t`'add_to_cart_order'`: é a ordem sequencial em que cada item foi colocado no carrinho\n",
    "    -\t`'reordered'`: 0 se o cliente nunca comprou o produto antes, 1 se já o comprou\n",
    "\n",
    "\n",
    "\n",
    "\n",
    "-\t`aisles.csv`\n",
    "    -\t`'aisle_id'`: é o número de identificação exclusivo de cada categoria de corredor do supermercado\n",
    "    -\t`'aisle'`: é o nome do corredor\n",
    "\n",
    "\n",
    "\n",
    "-\t`departments.csv`\n",
    "    -\t`'department_id'`: é o número de identificação exclusivo de cada categoria de departamento do supermercado\n",
    "    -\t`'department'`: é o nome do departamento\n"
   ]
  },
  {
   "cell_type": "markdown",
   "id": "n3Ha_cNSZ8lK",
   "metadata": {
    "id": "n3Ha_cNSZ8lK"
   },
   "source": [
    "# Etapa 1. Visão geral dos dados\n",
    "\n",
    "Leia os arquivos de dados (/datasets/instacart_orders.csv, /datasets/products.csv, /datasets/aisles.csv, /datasets/departments.csv e /datasets/order_products.csv) com `pd.read_csv()` usando os parâmetros apropriados para fazer isso corretamente. Verifique as informações para cada DataFrame criado.\n"
   ]
  },
  {
   "cell_type": "markdown",
   "id": "OmlQPLlyaAfR",
   "metadata": {
    "id": "OmlQPLlyaAfR"
   },
   "source": [
    "## Plano de solução\n",
    "\n",
    "Escreva aqui seu plano para a Etapa 2. Visão geral dos dados"
   ]
  },
  {
   "cell_type": "code",
   "execution_count": 2,
   "id": "fbf1adab",
   "metadata": {
    "id": "fbf1adab",
    "trusted": false
   },
   "outputs": [],
   "source": [
    "# Importe as bibliotecas\n",
    "import pandas as pd"
   ]
  },
  {
   "cell_type": "code",
   "execution_count": 3,
   "id": "ad36396d",
   "metadata": {
    "id": "ad36396d",
    "trusted": false
   },
   "outputs": [],
   "source": [
    "# leia os conjuntos de dados em DataFrames\n",
    "df_orders= pd.read_csv('/datasets/instacart_orders.csv', sep=';')\n",
    "df_products= pd.read_csv('/datasets/products.csv', sep=';')\n",
    "df_aisles= pd.read_csv('/datasets/aisles.csv', sep=';')\n",
    "df_departments= pd.read_csv('/datasets/departments.csv', sep=';')\n",
    "df_order_products= pd.read_csv('/datasets/order_products.csv', sep=';')"
   ]
  },
  {
   "cell_type": "code",
   "execution_count": 4,
   "id": "ad6a1efa",
   "metadata": {
    "id": "ad6a1efa",
    "trusted": false
   },
   "outputs": [
    {
     "name": "stdout",
     "output_type": "stream",
     "text": [
      "<class 'pandas.core.frame.DataFrame'>\n",
      "RangeIndex: 478967 entries, 0 to 478966\n",
      "Data columns (total 6 columns):\n",
      " #   Column                  Non-Null Count   Dtype  \n",
      "---  ------                  --------------   -----  \n",
      " 0   order_id                478967 non-null  int64  \n",
      " 1   user_id                 478967 non-null  int64  \n",
      " 2   order_number            478967 non-null  int64  \n",
      " 3   order_dow               478967 non-null  int64  \n",
      " 4   order_hour_of_day       478967 non-null  int64  \n",
      " 5   days_since_prior_order  450148 non-null  float64\n",
      "dtypes: float64(1), int64(5)\n",
      "memory usage: 21.9 MB\n"
     ]
    }
   ],
   "source": [
    "# imprima as informações sobre o DataFrame\n",
    "df_orders.info()"
   ]
  },
  {
   "cell_type": "code",
   "execution_count": 5,
   "id": "5130e05e",
   "metadata": {
    "id": "5130e05e",
    "trusted": false
   },
   "outputs": [
    {
     "name": "stdout",
     "output_type": "stream",
     "text": [
      "<class 'pandas.core.frame.DataFrame'>\n",
      "RangeIndex: 49694 entries, 0 to 49693\n",
      "Data columns (total 4 columns):\n",
      " #   Column         Non-Null Count  Dtype \n",
      "---  ------         --------------  ----- \n",
      " 0   product_id     49694 non-null  int64 \n",
      " 1   product_name   48436 non-null  object\n",
      " 2   aisle_id       49694 non-null  int64 \n",
      " 3   department_id  49694 non-null  int64 \n",
      "dtypes: int64(3), object(1)\n",
      "memory usage: 1.5+ MB\n"
     ]
    }
   ],
   "source": [
    "# imprima as informações sobre o DataFrame\n",
    "df_products.info()"
   ]
  },
  {
   "cell_type": "code",
   "execution_count": 6,
   "id": "d8370c05",
   "metadata": {
    "id": "d8370c05",
    "trusted": false
   },
   "outputs": [
    {
     "name": "stdout",
     "output_type": "stream",
     "text": [
      "<class 'pandas.core.frame.DataFrame'>\n",
      "RangeIndex: 134 entries, 0 to 133\n",
      "Data columns (total 2 columns):\n",
      " #   Column    Non-Null Count  Dtype \n",
      "---  ------    --------------  ----- \n",
      " 0   aisle_id  134 non-null    int64 \n",
      " 1   aisle     134 non-null    object\n",
      "dtypes: int64(1), object(1)\n",
      "memory usage: 2.2+ KB\n"
     ]
    }
   ],
   "source": [
    "# imprima as informações sobre o DataFrame\n",
    "df_aisles.info()"
   ]
  },
  {
   "cell_type": "code",
   "execution_count": 7,
   "id": "59e2090f",
   "metadata": {
    "id": "59e2090f",
    "trusted": false
   },
   "outputs": [
    {
     "name": "stdout",
     "output_type": "stream",
     "text": [
      "<class 'pandas.core.frame.DataFrame'>\n",
      "RangeIndex: 21 entries, 0 to 20\n",
      "Data columns (total 2 columns):\n",
      " #   Column         Non-Null Count  Dtype \n",
      "---  ------         --------------  ----- \n",
      " 0   department_id  21 non-null     int64 \n",
      " 1   department     21 non-null     object\n",
      "dtypes: int64(1), object(1)\n",
      "memory usage: 464.0+ bytes\n"
     ]
    }
   ],
   "source": [
    "# imprima as informações sobre o DataFrame\n",
    "df_departments.info()"
   ]
  },
  {
   "cell_type": "code",
   "execution_count": 8,
   "id": "6fc81694",
   "metadata": {
    "id": "6fc81694",
    "trusted": false
   },
   "outputs": [
    {
     "name": "stdout",
     "output_type": "stream",
     "text": [
      "<class 'pandas.core.frame.DataFrame'>\n",
      "RangeIndex: 4545007 entries, 0 to 4545006\n",
      "Data columns (total 4 columns):\n",
      " #   Column             Non-Null Count    Dtype  \n",
      "---  ------             --------------    -----  \n",
      " 0   order_id           4545007 non-null  int64  \n",
      " 1   product_id         4545007 non-null  int64  \n",
      " 2   add_to_cart_order  4544171 non-null  float64\n",
      " 3   reordered          4545007 non-null  int64  \n",
      "dtypes: float64(1), int64(3)\n",
      "memory usage: 138.7 MB\n"
     ]
    }
   ],
   "source": [
    "# imprima as informações sobre o DataFrame\n",
    "df_order_products.info(show_counts=True)"
   ]
  },
  {
   "cell_type": "markdown",
   "id": "t75BD19oaR5f",
   "metadata": {
    "id": "t75BD19oaR5f"
   },
   "source": [
    "## Conclusões\n",
    "\n",
    "Escreva aqui suas conclusões intermediárias da Etapa 1. Visão geral dos dados\n",
    "Pode-se perceber que os arquivos estão separados por ';' e não ','. Além disso, as planilhas:orders.csv, df_products, e order_products.csv estão com valores nulos faltantes. "
   ]
  },
  {
   "cell_type": "markdown",
   "id": "8RJHqxVmaVsF",
   "metadata": {
    "id": "8RJHqxVmaVsF"
   },
   "source": [
    "# Etapa 2. Preparação de dados\n",
    "\n",
    "Faça o pré-processamento dos dados da seguinte maneira:\n",
    "\n",
    "-\tVerifique e corrija os tipos de dados (por exemplo, certifique-se de que as colunas de ID sejam números inteiros)\n",
    "-\tIdentifique e preencha valores ausentes\n",
    "-\tIdentifique e remova valores duplicados\n",
    "\n",
    "Certifique-se de explicar que tipos de valores ausentes e duplicados você encontrou, como você os preencheu ou removeu, por que escolheu esses métodos e por que você acha que esses valores ausentes e duplicados estavam presentes no conjunto de dados."
   ]
  },
  {
   "cell_type": "markdown",
   "id": "p6poABZQaZYb",
   "metadata": {
    "id": "p6poABZQaZYb"
   },
   "source": [
    "## Plano de solução\n",
    "\n",
    "Escreva aqui seu plano para a Etapa 2. Preparação de dados\n",
    "1. Preencher com 0 os nulos em days_since_prior_order, pois faz sentido para aqueles que são o primeiro pedido. Depois disso converter para int; \n",
    "2. Investigar os nulos em product_name e remover eles se necessário; \n",
    "3. Os nulos em add_to_cart_order remover e depois converter para int; \n",
    "4. Remover os duplicados para evitar distorções estatísticas. "
   ]
  },
  {
   "cell_type": "markdown",
   "id": "07357848-dc64-4156-9cc3-01ff4365226d",
   "metadata": {
    "id": "07357848-dc64-4156-9cc3-01ff4365226d"
   },
   "source": [
    "## Encontre e remova valores duplicados (e descreva por que você está fazendo suas escolhas)"
   ]
  },
  {
   "cell_type": "markdown",
   "id": "f179f0a9",
   "metadata": {
    "id": "f179f0a9"
   },
   "source": [
    "### DataFrame `instacart_orders`"
   ]
  },
  {
   "cell_type": "code",
   "execution_count": 9,
   "id": "b99297a5-405a-463d-8535-9adc3da4ad74",
   "metadata": {
    "id": "b99297a5-405a-463d-8535-9adc3da4ad74",
    "scrolled": true,
    "trusted": false
   },
   "outputs": [
    {
     "data": {
      "text/plain": [
       "15"
      ]
     },
     "execution_count": 9,
     "metadata": {},
     "output_type": "execute_result"
    }
   ],
   "source": [
    "# Verificar se há pedidos duplicados\n",
    "\n",
    "df_orders.duplicated().sum()\n",
    "\n"
   ]
  },
  {
   "cell_type": "markdown",
   "id": "PEkwUX_gvt5A",
   "metadata": {
    "id": "PEkwUX_gvt5A"
   },
   "source": [
    "Há linhas duplicadas? Se sim, o que elas têm em comum? Sim. order_dow e order_hours_of_day são iguais, aconteceram na quarta feira as 2h "
   ]
  },
  {
   "cell_type": "code",
   "execution_count": 10,
   "id": "b939df9e",
   "metadata": {
    "trusted": false
   },
   "outputs": [
    {
     "data": {
      "text/html": [
       "<div>\n",
       "<style scoped>\n",
       "    .dataframe tbody tr th:only-of-type {\n",
       "        vertical-align: middle;\n",
       "    }\n",
       "\n",
       "    .dataframe tbody tr th {\n",
       "        vertical-align: top;\n",
       "    }\n",
       "\n",
       "    .dataframe thead th {\n",
       "        text-align: right;\n",
       "    }\n",
       "</style>\n",
       "<table border=\"1\" class=\"dataframe\">\n",
       "  <thead>\n",
       "    <tr style=\"text-align: right;\">\n",
       "      <th></th>\n",
       "      <th>order_id</th>\n",
       "      <th>user_id</th>\n",
       "      <th>order_number</th>\n",
       "      <th>order_dow</th>\n",
       "      <th>order_hour_of_day</th>\n",
       "      <th>days_since_prior_order</th>\n",
       "    </tr>\n",
       "  </thead>\n",
       "  <tbody>\n",
       "    <tr>\n",
       "      <th>145574</th>\n",
       "      <td>794638</td>\n",
       "      <td>50898</td>\n",
       "      <td>24</td>\n",
       "      <td>3</td>\n",
       "      <td>2</td>\n",
       "      <td>2.0</td>\n",
       "    </tr>\n",
       "    <tr>\n",
       "      <th>223105</th>\n",
       "      <td>2160484</td>\n",
       "      <td>107525</td>\n",
       "      <td>16</td>\n",
       "      <td>3</td>\n",
       "      <td>2</td>\n",
       "      <td>30.0</td>\n",
       "    </tr>\n",
       "    <tr>\n",
       "      <th>230807</th>\n",
       "      <td>1918001</td>\n",
       "      <td>188546</td>\n",
       "      <td>14</td>\n",
       "      <td>3</td>\n",
       "      <td>2</td>\n",
       "      <td>16.0</td>\n",
       "    </tr>\n",
       "    <tr>\n",
       "      <th>266232</th>\n",
       "      <td>1782114</td>\n",
       "      <td>106752</td>\n",
       "      <td>1</td>\n",
       "      <td>3</td>\n",
       "      <td>2</td>\n",
       "      <td>NaN</td>\n",
       "    </tr>\n",
       "    <tr>\n",
       "      <th>273805</th>\n",
       "      <td>1112182</td>\n",
       "      <td>202304</td>\n",
       "      <td>84</td>\n",
       "      <td>3</td>\n",
       "      <td>2</td>\n",
       "      <td>6.0</td>\n",
       "    </tr>\n",
       "    <tr>\n",
       "      <th>284038</th>\n",
       "      <td>2845099</td>\n",
       "      <td>31189</td>\n",
       "      <td>11</td>\n",
       "      <td>3</td>\n",
       "      <td>2</td>\n",
       "      <td>7.0</td>\n",
       "    </tr>\n",
       "    <tr>\n",
       "      <th>311713</th>\n",
       "      <td>1021560</td>\n",
       "      <td>53767</td>\n",
       "      <td>3</td>\n",
       "      <td>3</td>\n",
       "      <td>2</td>\n",
       "      <td>9.0</td>\n",
       "    </tr>\n",
       "    <tr>\n",
       "      <th>321100</th>\n",
       "      <td>408114</td>\n",
       "      <td>68324</td>\n",
       "      <td>4</td>\n",
       "      <td>3</td>\n",
       "      <td>2</td>\n",
       "      <td>18.0</td>\n",
       "    </tr>\n",
       "    <tr>\n",
       "      <th>323900</th>\n",
       "      <td>1919531</td>\n",
       "      <td>191501</td>\n",
       "      <td>32</td>\n",
       "      <td>3</td>\n",
       "      <td>2</td>\n",
       "      <td>7.0</td>\n",
       "    </tr>\n",
       "    <tr>\n",
       "      <th>345917</th>\n",
       "      <td>2232988</td>\n",
       "      <td>82565</td>\n",
       "      <td>1</td>\n",
       "      <td>3</td>\n",
       "      <td>2</td>\n",
       "      <td>NaN</td>\n",
       "    </tr>\n",
       "    <tr>\n",
       "      <th>371905</th>\n",
       "      <td>391768</td>\n",
       "      <td>57671</td>\n",
       "      <td>19</td>\n",
       "      <td>3</td>\n",
       "      <td>2</td>\n",
       "      <td>10.0</td>\n",
       "    </tr>\n",
       "    <tr>\n",
       "      <th>394347</th>\n",
       "      <td>467134</td>\n",
       "      <td>63189</td>\n",
       "      <td>21</td>\n",
       "      <td>3</td>\n",
       "      <td>2</td>\n",
       "      <td>2.0</td>\n",
       "    </tr>\n",
       "    <tr>\n",
       "      <th>411408</th>\n",
       "      <td>1286742</td>\n",
       "      <td>183220</td>\n",
       "      <td>48</td>\n",
       "      <td>3</td>\n",
       "      <td>2</td>\n",
       "      <td>4.0</td>\n",
       "    </tr>\n",
       "    <tr>\n",
       "      <th>415163</th>\n",
       "      <td>2282673</td>\n",
       "      <td>86751</td>\n",
       "      <td>49</td>\n",
       "      <td>3</td>\n",
       "      <td>2</td>\n",
       "      <td>2.0</td>\n",
       "    </tr>\n",
       "    <tr>\n",
       "      <th>441599</th>\n",
       "      <td>2125197</td>\n",
       "      <td>14050</td>\n",
       "      <td>48</td>\n",
       "      <td>3</td>\n",
       "      <td>2</td>\n",
       "      <td>3.0</td>\n",
       "    </tr>\n",
       "  </tbody>\n",
       "</table>\n",
       "</div>"
      ],
      "text/plain": [
       "        order_id  user_id  order_number  order_dow  order_hour_of_day  \\\n",
       "145574    794638    50898            24          3                  2   \n",
       "223105   2160484   107525            16          3                  2   \n",
       "230807   1918001   188546            14          3                  2   \n",
       "266232   1782114   106752             1          3                  2   \n",
       "273805   1112182   202304            84          3                  2   \n",
       "284038   2845099    31189            11          3                  2   \n",
       "311713   1021560    53767             3          3                  2   \n",
       "321100    408114    68324             4          3                  2   \n",
       "323900   1919531   191501            32          3                  2   \n",
       "345917   2232988    82565             1          3                  2   \n",
       "371905    391768    57671            19          3                  2   \n",
       "394347    467134    63189            21          3                  2   \n",
       "411408   1286742   183220            48          3                  2   \n",
       "415163   2282673    86751            49          3                  2   \n",
       "441599   2125197    14050            48          3                  2   \n",
       "\n",
       "        days_since_prior_order  \n",
       "145574                     2.0  \n",
       "223105                    30.0  \n",
       "230807                    16.0  \n",
       "266232                     NaN  \n",
       "273805                     6.0  \n",
       "284038                     7.0  \n",
       "311713                     9.0  \n",
       "321100                    18.0  \n",
       "323900                     7.0  \n",
       "345917                     NaN  \n",
       "371905                    10.0  \n",
       "394347                     2.0  \n",
       "411408                     4.0  \n",
       "415163                     2.0  \n",
       "441599                     3.0  "
      ]
     },
     "execution_count": 10,
     "metadata": {},
     "output_type": "execute_result"
    }
   ],
   "source": [
    "df_orders[df_orders.duplicated()]"
   ]
  },
  {
   "cell_type": "code",
   "execution_count": 11,
   "id": "0d44de5d",
   "metadata": {
    "id": "0d44de5d",
    "trusted": false
   },
   "outputs": [
    {
     "name": "stdout",
     "output_type": "stream",
     "text": [
      "        order_id  user_id  order_number  order_dow  order_hour_of_day  \\\n",
      "4838     2766110   162084            41          3                  2   \n",
      "5156     2190225   138285            18          3                  2   \n",
      "15506     553049    58599            13          3                  2   \n",
      "18420     382357   120200            19          3                  2   \n",
      "24691     690242    77357             2          3                  2   \n",
      "...          ...      ...           ...        ...                ...   \n",
      "457013   3384021    14881             6          3                  2   \n",
      "458816    910166   164782            18          3                  2   \n",
      "459635   1680532   106435             6          3                  2   \n",
      "468324    222962    54979            59          3                  2   \n",
      "477526   2592344    46860            38          3                  2   \n",
      "\n",
      "        days_since_prior_order  \n",
      "4838                      16.0  \n",
      "5156                      11.0  \n",
      "15506                      7.0  \n",
      "18420                     11.0  \n",
      "24691                      9.0  \n",
      "...                        ...  \n",
      "457013                    30.0  \n",
      "458816                     4.0  \n",
      "459635                    21.0  \n",
      "468324                     3.0  \n",
      "477526                     3.0  \n",
      "\n",
      "[121 rows x 6 columns]\n"
     ]
    }
   ],
   "source": [
    "# Com base nas suas conclusões,\n",
    "\n",
    "# verifique todos os pedidos feitos às 2h da manhã nas quartas-feiras\n",
    "\n",
    "pedidos_quarta_2h = df_orders[\n",
    "    (df_orders['order_hour_of_day'] == 2) & (df_orders['order_dow'] == 3)\n",
    "]\n",
    "\n",
    "# Visualizar o resultado\n",
    "print(pedidos_quarta_2h)\n"
   ]
  },
  {
   "cell_type": "markdown",
   "id": "vu2OWyoqwOx5",
   "metadata": {
    "id": "vu2OWyoqwOx5"
   },
   "source": [
    "O que esse resultado quer dizer? Que 121 pedidos foram feitos às 2h da manhã de uma quarta-feira."
   ]
  },
  {
   "cell_type": "code",
   "execution_count": 12,
   "id": "480563c7",
   "metadata": {
    "id": "480563c7",
    "trusted": false
   },
   "outputs": [],
   "source": [
    "# Remova pedidos duplicados\n",
    "df_orders = df_orders.drop_duplicates()\n"
   ]
  },
  {
   "cell_type": "code",
   "execution_count": 13,
   "id": "0b2396a2",
   "metadata": {
    "id": "0b2396a2",
    "trusted": false
   },
   "outputs": [
    {
     "data": {
      "text/plain": [
       "0"
      ]
     },
     "execution_count": 13,
     "metadata": {},
     "output_type": "execute_result"
    }
   ],
   "source": [
    "# Verifique as linhas duplicadas mais uma vez\n",
    "df_orders.duplicated().sum()"
   ]
  },
  {
   "cell_type": "code",
   "execution_count": 14,
   "id": "f6113ef1",
   "metadata": {
    "id": "f6113ef1",
    "trusted": false
   },
   "outputs": [
    {
     "data": {
      "text/plain": [
       "0"
      ]
     },
     "execution_count": 14,
     "metadata": {},
     "output_type": "execute_result"
    }
   ],
   "source": [
    "# Verifique novamente apenas os IDs de pedidos duplicados\n",
    "df_orders.duplicated(subset='order_id').sum()"
   ]
  },
  {
   "cell_type": "markdown",
   "id": "5e8905ae",
   "metadata": {
    "id": "5e8905ae"
   },
   "source": [
    "Descreva brevemente suas conclusões e o que você fez com elas.\n",
    "Após a verificação inicial, identifiquei 15 linhas duplicadas no DataFrame df_orders, onde todas as colunas estavam exatamente iguais. Essas duplicatas foram removidas utilizando o método drop_duplicates(). Em seguida, verifiquei novamente a presença de duplicatas e confirmei que nenhuma linha duplicada permaneceu.\n",
    "\n",
    "Além disso, realizei uma checagem específica para valores duplicados na coluna order_id, que deve conter apenas identificadores únicos. A verificação mostrou que não havia order_id duplicados após a limpeza — o que garante que cada pedido está representado apenas uma vez no conjunto de dados."
   ]
  },
  {
   "cell_type": "markdown",
   "id": "45e6bc46",
   "metadata": {
    "id": "45e6bc46"
   },
   "source": [
    "### DataFrame `products`"
   ]
  },
  {
   "cell_type": "code",
   "execution_count": 15,
   "id": "5f526b5b-8175-46fa-a0fd-441767d50e64",
   "metadata": {
    "id": "5f526b5b-8175-46fa-a0fd-441767d50e64",
    "trusted": false
   },
   "outputs": [
    {
     "data": {
      "text/plain": [
       "0"
      ]
     },
     "execution_count": 15,
     "metadata": {},
     "output_type": "execute_result"
    }
   ],
   "source": [
    "# Verifique se há linhas completamente duplicadas\n",
    "df_products.duplicated().sum()\n"
   ]
  },
  {
   "cell_type": "code",
   "execution_count": 16,
   "id": "88daa4f4",
   "metadata": {
    "id": "88daa4f4",
    "trusted": false
   },
   "outputs": [
    {
     "data": {
      "text/plain": [
       "0"
      ]
     },
     "execution_count": 16,
     "metadata": {},
     "output_type": "execute_result"
    }
   ],
   "source": [
    "# Verifique apenas IDs dos produtos duplicados\n",
    "df_products.duplicated(subset='product_id').sum()\n"
   ]
  },
  {
   "cell_type": "code",
   "execution_count": 17,
   "id": "c773f0bf",
   "metadata": {
    "id": "c773f0bf",
    "trusted": false
   },
   "outputs": [
    {
     "data": {
      "text/plain": [
       "1361"
      ]
     },
     "execution_count": 17,
     "metadata": {},
     "output_type": "execute_result"
    }
   ],
   "source": [
    "# Verifique apenas nomes de produtos duplicados (converta os nomes para minúsculas para uma comparação melhor)\n",
    "df_products['product_name']= df_products['product_name'].str.lower()\n",
    "df_products.duplicated(subset= 'product_name').sum()"
   ]
  },
  {
   "cell_type": "code",
   "execution_count": 18,
   "id": "01efd02e",
   "metadata": {
    "id": "01efd02e",
    "trusted": false
   },
   "outputs": [
    {
     "data": {
      "text/plain": [
       "104"
      ]
     },
     "execution_count": 18,
     "metadata": {},
     "output_type": "execute_result"
    }
   ],
   "source": [
    "# Verifique os nomes de produtos duplicados que não estão faltando\n",
    "df_products[df_products['product_name'].notna()].duplicated(subset= 'product_name').sum()"
   ]
  },
  {
   "cell_type": "markdown",
   "id": "9da8d293",
   "metadata": {
    "id": "9da8d293"
   },
   "source": [
    "Descreva brevemente suas conclusões e o que você fez com elas. Conseguimos visualizar que nomes de produtos duplicados são 1361 e nomes de produtos que não estão preenchidos com NaN são 104. "
   ]
  },
  {
   "cell_type": "markdown",
   "id": "60f30db1",
   "metadata": {
    "id": "60f30db1"
   },
   "source": [
    "### DataFrame `departments`"
   ]
  },
  {
   "cell_type": "code",
   "execution_count": 19,
   "id": "fb410ad4-0fbf-4b80-bb09-23fdea79afe3",
   "metadata": {
    "id": "fb410ad4-0fbf-4b80-bb09-23fdea79afe3",
    "trusted": false
   },
   "outputs": [
    {
     "data": {
      "text/plain": [
       "0"
      ]
     },
     "execution_count": 19,
     "metadata": {},
     "output_type": "execute_result"
    }
   ],
   "source": [
    "# Verifique se há linhas completamente duplicadas\n",
    "df_departments.duplicated().sum()"
   ]
  },
  {
   "cell_type": "code",
   "execution_count": 20,
   "id": "332b12bb",
   "metadata": {
    "id": "332b12bb",
    "trusted": false
   },
   "outputs": [
    {
     "data": {
      "text/plain": [
       "0"
      ]
     },
     "execution_count": 20,
     "metadata": {},
     "output_type": "execute_result"
    }
   ],
   "source": [
    "# Verifique apenas se há IDs dos produtos duplicados\n",
    "df_departments.duplicated(subset= 'department_id').sum()"
   ]
  },
  {
   "cell_type": "markdown",
   "id": "bd30d78e",
   "metadata": {
    "id": "bd30d78e"
   },
   "source": [
    "Descreva brevemente suas conclusões e o que você fez com elas. Não temos linhas duplicadas e nem IDs."
   ]
  },
  {
   "cell_type": "markdown",
   "id": "889349c1",
   "metadata": {
    "id": "889349c1"
   },
   "source": [
    "### DataFrame `aisles`"
   ]
  },
  {
   "cell_type": "code",
   "execution_count": 21,
   "id": "9da89fb9-4679-40f5-ad0d-c34df753a3f8",
   "metadata": {
    "id": "9da89fb9-4679-40f5-ad0d-c34df753a3f8",
    "trusted": false
   },
   "outputs": [
    {
     "data": {
      "text/plain": [
       "0"
      ]
     },
     "execution_count": 21,
     "metadata": {},
     "output_type": "execute_result"
    }
   ],
   "source": [
    "# Verifique se há linhas completamente duplicadas\n",
    "df_aisles.duplicated().sum()"
   ]
  },
  {
   "cell_type": "code",
   "execution_count": 22,
   "id": "da7c2822",
   "metadata": {
    "id": "da7c2822",
    "trusted": false
   },
   "outputs": [
    {
     "data": {
      "text/plain": [
       "0"
      ]
     },
     "execution_count": 22,
     "metadata": {},
     "output_type": "execute_result"
    }
   ],
   "source": [
    "# Verifique apenas se há IDs dos produtos duplicados\n",
    "df_aisles.duplicated(subset= 'aisle_id').sum()"
   ]
  },
  {
   "cell_type": "markdown",
   "id": "ac63826f",
   "metadata": {
    "id": "ac63826f"
   },
   "source": [
    "Descreva brevemente suas conclusões e o que você fez com elas. Não temos linhas duplicadas e nem IDs."
   ]
  },
  {
   "cell_type": "markdown",
   "id": "274cd06a",
   "metadata": {
    "id": "274cd06a"
   },
   "source": [
    "### DataFrame `order_products`"
   ]
  },
  {
   "cell_type": "code",
   "execution_count": 23,
   "id": "52326689-84a8-4b8f-a881-7c68780f62c9",
   "metadata": {
    "id": "52326689-84a8-4b8f-a881-7c68780f62c9",
    "trusted": false
   },
   "outputs": [
    {
     "data": {
      "text/plain": [
       "0"
      ]
     },
     "execution_count": 23,
     "metadata": {},
     "output_type": "execute_result"
    }
   ],
   "source": [
    "# Verifique se há linhas completamente duplicadas\n",
    "df_order_products.duplicated().sum()"
   ]
  },
  {
   "cell_type": "code",
   "execution_count": 24,
   "id": "7b861391",
   "metadata": {
    "id": "7b861391",
    "trusted": false
   },
   "outputs": [
    {
     "data": {
      "text/plain": [
       "0"
      ]
     },
     "execution_count": 24,
     "metadata": {},
     "output_type": "execute_result"
    }
   ],
   "source": [
    "# Verifique mais uma vez se há outros casos complicados de duplicados\n",
    "df_order_products.duplicated(subset= ['order_id', 'product_id']).sum()"
   ]
  },
  {
   "cell_type": "markdown",
   "id": "0b890492",
   "metadata": {
    "id": "0b890492"
   },
   "source": [
    "Descreva brevemente suas conclusões e o que você fez com elas. Não temos linhas duplicadas e nem IDs."
   ]
  },
  {
   "cell_type": "markdown",
   "id": "1e46de76",
   "metadata": {
    "id": "1e46de76"
   },
   "source": [
    "## Encontre e remova valores ausentes\n",
    "\n",
    "\n",
    "Ao processarmos valores duplicados, observamos que também temos valores ausentes que precisamos investigar nas seguintes colunas:\n",
    "\n",
    "*\tA coluna `'product_name'` da tabela products.\n",
    "*\tA coluna `'days_since_prior_order'` da tabela orders.\n",
    "*\tA coluna `'add_to_cart_order'` da tabela order_products.\n"
   ]
  },
  {
   "cell_type": "markdown",
   "id": "c0aebd78",
   "metadata": {
    "id": "c0aebd78"
   },
   "source": [
    "### DataFrame `products`"
   ]
  },
  {
   "cell_type": "code",
   "execution_count": 25,
   "id": "fe4a8b0f",
   "metadata": {
    "id": "fe4a8b0f",
    "trusted": false
   },
   "outputs": [
    {
     "data": {
      "text/html": [
       "<div>\n",
       "<style scoped>\n",
       "    .dataframe tbody tr th:only-of-type {\n",
       "        vertical-align: middle;\n",
       "    }\n",
       "\n",
       "    .dataframe tbody tr th {\n",
       "        vertical-align: top;\n",
       "    }\n",
       "\n",
       "    .dataframe thead th {\n",
       "        text-align: right;\n",
       "    }\n",
       "</style>\n",
       "<table border=\"1\" class=\"dataframe\">\n",
       "  <thead>\n",
       "    <tr style=\"text-align: right;\">\n",
       "      <th></th>\n",
       "      <th>product_id</th>\n",
       "      <th>product_name</th>\n",
       "      <th>aisle_id</th>\n",
       "      <th>department_id</th>\n",
       "    </tr>\n",
       "  </thead>\n",
       "  <tbody>\n",
       "    <tr>\n",
       "      <th>0</th>\n",
       "      <td>1</td>\n",
       "      <td>chocolate sandwich cookies</td>\n",
       "      <td>61</td>\n",
       "      <td>19</td>\n",
       "    </tr>\n",
       "    <tr>\n",
       "      <th>1</th>\n",
       "      <td>2</td>\n",
       "      <td>all-seasons salt</td>\n",
       "      <td>104</td>\n",
       "      <td>13</td>\n",
       "    </tr>\n",
       "    <tr>\n",
       "      <th>2</th>\n",
       "      <td>3</td>\n",
       "      <td>robust golden unsweetened oolong tea</td>\n",
       "      <td>94</td>\n",
       "      <td>7</td>\n",
       "    </tr>\n",
       "    <tr>\n",
       "      <th>3</th>\n",
       "      <td>4</td>\n",
       "      <td>smart ones classic favorites mini rigatoni wit...</td>\n",
       "      <td>38</td>\n",
       "      <td>1</td>\n",
       "    </tr>\n",
       "    <tr>\n",
       "      <th>4</th>\n",
       "      <td>5</td>\n",
       "      <td>green chile anytime sauce</td>\n",
       "      <td>5</td>\n",
       "      <td>13</td>\n",
       "    </tr>\n",
       "    <tr>\n",
       "      <th>...</th>\n",
       "      <td>...</td>\n",
       "      <td>...</td>\n",
       "      <td>...</td>\n",
       "      <td>...</td>\n",
       "    </tr>\n",
       "    <tr>\n",
       "      <th>49689</th>\n",
       "      <td>49690</td>\n",
       "      <td>high performance energy drink</td>\n",
       "      <td>64</td>\n",
       "      <td>7</td>\n",
       "    </tr>\n",
       "    <tr>\n",
       "      <th>49690</th>\n",
       "      <td>49691</td>\n",
       "      <td>original pancake &amp; waffle mix</td>\n",
       "      <td>130</td>\n",
       "      <td>14</td>\n",
       "    </tr>\n",
       "    <tr>\n",
       "      <th>49691</th>\n",
       "      <td>49692</td>\n",
       "      <td>organic instant oatmeal light maple brown sugar</td>\n",
       "      <td>130</td>\n",
       "      <td>14</td>\n",
       "    </tr>\n",
       "    <tr>\n",
       "      <th>49692</th>\n",
       "      <td>49693</td>\n",
       "      <td>spring water body wash</td>\n",
       "      <td>127</td>\n",
       "      <td>11</td>\n",
       "    </tr>\n",
       "    <tr>\n",
       "      <th>49693</th>\n",
       "      <td>49694</td>\n",
       "      <td>burrito- steak &amp; cheese</td>\n",
       "      <td>38</td>\n",
       "      <td>1</td>\n",
       "    </tr>\n",
       "  </tbody>\n",
       "</table>\n",
       "<p>49694 rows × 4 columns</p>\n",
       "</div>"
      ],
      "text/plain": [
       "       product_id                                       product_name  \\\n",
       "0               1                         chocolate sandwich cookies   \n",
       "1               2                                   all-seasons salt   \n",
       "2               3               robust golden unsweetened oolong tea   \n",
       "3               4  smart ones classic favorites mini rigatoni wit...   \n",
       "4               5                          green chile anytime sauce   \n",
       "...           ...                                                ...   \n",
       "49689       49690                      high performance energy drink   \n",
       "49690       49691                      original pancake & waffle mix   \n",
       "49691       49692    organic instant oatmeal light maple brown sugar   \n",
       "49692       49693                             spring water body wash   \n",
       "49693       49694                            burrito- steak & cheese   \n",
       "\n",
       "       aisle_id  department_id  \n",
       "0            61             19  \n",
       "1           104             13  \n",
       "2            94              7  \n",
       "3            38              1  \n",
       "4             5             13  \n",
       "...         ...            ...  \n",
       "49689        64              7  \n",
       "49690       130             14  \n",
       "49691       130             14  \n",
       "49692       127             11  \n",
       "49693        38              1  \n",
       "\n",
       "[49694 rows x 4 columns]"
      ]
     },
     "execution_count": 25,
     "metadata": {},
     "output_type": "execute_result"
    }
   ],
   "source": [
    "# Encontre valores ausentes na coluna 'product_name'\n",
    "df_products#['product_name'].isnull().sum()"
   ]
  },
  {
   "cell_type": "markdown",
   "id": "-A6x1AbJhjkp",
   "metadata": {
    "id": "-A6x1AbJhjkp"
   },
   "source": [
    "Descreva brevemente suas conclusões. Temos 1258 valores nulos na coluna 'product_name'"
   ]
  },
  {
   "cell_type": "code",
   "execution_count": 26,
   "id": "e96167bc",
   "metadata": {
    "id": "e96167bc",
    "trusted": false
   },
   "outputs": [
    {
     "data": {
      "text/plain": [
       "array([100])"
      ]
     },
     "execution_count": 26,
     "metadata": {},
     "output_type": "execute_result"
    }
   ],
   "source": [
    "# Todos os nomes de produtos ausentes estão associados com o corredor de ID 100?\n",
    "df_products[df_products['product_name'].isna()]['aisle_id'].unique()"
   ]
  },
  {
   "cell_type": "markdown",
   "id": "WRpIfXRphpSL",
   "metadata": {
    "id": "WRpIfXRphpSL"
   },
   "source": [
    "Descreva brevemente suas conclusões. Todos os nomes de produtos ausentes estão associados com o corredor de ID 100"
   ]
  },
  {
   "cell_type": "code",
   "execution_count": 27,
   "id": "8fd0a541",
   "metadata": {
    "id": "8fd0a541",
    "trusted": false
   },
   "outputs": [
    {
     "data": {
      "text/plain": [
       "array([21])"
      ]
     },
     "execution_count": 27,
     "metadata": {},
     "output_type": "execute_result"
    }
   ],
   "source": [
    "# Todos os nomes de produtos ausentes estão associados com o departamento de ID 21?\n",
    "df_products[df_products['product_name'].isna()]['department_id'].unique()"
   ]
  },
  {
   "cell_type": "markdown",
   "id": "qDpdYn1Fht_I",
   "metadata": {
    "id": "qDpdYn1Fht_I"
   },
   "source": [
    "Descreva brevemente suas conclusões. Todos os nomes de produtos ausentes estão associados com o corredor de ID 21"
   ]
  },
  {
   "cell_type": "code",
   "execution_count": 28,
   "id": "325c3464",
   "metadata": {
    "id": "325c3464",
    "trusted": false
   },
   "outputs": [
    {
     "data": {
      "text/html": [
       "<div>\n",
       "<style scoped>\n",
       "    .dataframe tbody tr th:only-of-type {\n",
       "        vertical-align: middle;\n",
       "    }\n",
       "\n",
       "    .dataframe tbody tr th {\n",
       "        vertical-align: top;\n",
       "    }\n",
       "\n",
       "    .dataframe thead th {\n",
       "        text-align: right;\n",
       "    }\n",
       "</style>\n",
       "<table border=\"1\" class=\"dataframe\">\n",
       "  <thead>\n",
       "    <tr style=\"text-align: right;\">\n",
       "      <th></th>\n",
       "      <th>department_id</th>\n",
       "      <th>department</th>\n",
       "    </tr>\n",
       "  </thead>\n",
       "  <tbody>\n",
       "    <tr>\n",
       "      <th>20</th>\n",
       "      <td>21</td>\n",
       "      <td>missing</td>\n",
       "    </tr>\n",
       "  </tbody>\n",
       "</table>\n",
       "</div>"
      ],
      "text/plain": [
       "    department_id department\n",
       "20             21    missing"
      ]
     },
     "execution_count": 28,
     "metadata": {},
     "output_type": "execute_result"
    }
   ],
   "source": [
    "# Use as tabelas department e aisle para verificar os dados do corredor com ID 100 e do departamento com ID 21.\n",
    "df_aisles[df_aisles['aisle_id'] == 100]\n",
    "df_departments[df_departments['department_id'] == 21]"
   ]
  },
  {
   "cell_type": "markdown",
   "id": "nqhSTUPhhvEJ",
   "metadata": {
    "id": "nqhSTUPhhvEJ"
   },
   "source": [
    "Descreva brevemente suas conclusões. Os dois corredores estão \"missing\""
   ]
  },
  {
   "cell_type": "code",
   "execution_count": 29,
   "id": "6b295120",
   "metadata": {
    "id": "6b295120",
    "trusted": false
   },
   "outputs": [],
   "source": [
    "# Preencha nomes de produtos ausentes com 'Unknown'\n",
    "df_products['product_name'].fillna('Unknown', inplace=True)\n",
    "#ou\n",
    "df_products['product_name']= df_products['product_name'].fillna('Unknown') #reatribuição"
   ]
  },
  {
   "cell_type": "code",
   "execution_count": 30,
   "id": "74975833",
   "metadata": {
    "trusted": false
   },
   "outputs": [
    {
     "data": {
      "text/plain": [
       "0"
      ]
     },
     "execution_count": 30,
     "metadata": {},
     "output_type": "execute_result"
    }
   ],
   "source": [
    "#checar se deu certo\n",
    "df_products['product_name'].isnull().sum()"
   ]
  },
  {
   "cell_type": "markdown",
   "id": "fc70e5ad",
   "metadata": {
    "id": "fc70e5ad"
   },
   "source": [
    "Descreva brevemente suas conclusões e o que você fez com elas."
   ]
  },
  {
   "cell_type": "markdown",
   "id": "7eb45c86",
   "metadata": {
    "id": "7eb45c86"
   },
   "source": [
    "### DataFrame `orders`"
   ]
  },
  {
   "cell_type": "code",
   "execution_count": 31,
   "id": "93e41d96",
   "metadata": {
    "id": "93e41d96",
    "trusted": false
   },
   "outputs": [
    {
     "data": {
      "text/plain": [
       "order_id                      0\n",
       "user_id                       0\n",
       "order_number                  0\n",
       "order_dow                     0\n",
       "order_hour_of_day             0\n",
       "days_since_prior_order    28817\n",
       "dtype: int64"
      ]
     },
     "execution_count": 31,
     "metadata": {},
     "output_type": "execute_result"
    }
   ],
   "source": [
    "# Encontre os valores ausentes\n",
    "df_orders.isnull().sum()"
   ]
  },
  {
   "cell_type": "code",
   "execution_count": 32,
   "id": "166e5a86",
   "metadata": {
    "id": "166e5a86",
    "trusted": false
   },
   "outputs": [
    {
     "data": {
      "text/plain": [
       "array([1])"
      ]
     },
     "execution_count": 32,
     "metadata": {},
     "output_type": "execute_result"
    }
   ],
   "source": [
    "# Há valores ausentes para os clientes que não estão fazendo o primeiro pedido?\n",
    "df_orders[df_orders['days_since_prior_order'].isnull()]['order_number'].unique()"
   ]
  },
  {
   "cell_type": "markdown",
   "id": "4e23d089",
   "metadata": {
    "id": "4e23d089"
   },
   "source": [
    "Descreva brevemente suas conclusões e o que você fez com elas."
   ]
  },
  {
   "cell_type": "markdown",
   "id": "69dc9ca4",
   "metadata": {
    "id": "69dc9ca4"
   },
   "source": [
    "### DataFrame `order_products`"
   ]
  },
  {
   "cell_type": "code",
   "execution_count": 33,
   "id": "b8240253",
   "metadata": {
    "id": "b8240253",
    "trusted": false
   },
   "outputs": [
    {
     "data": {
      "text/plain": [
       "order_id               0\n",
       "product_id             0\n",
       "add_to_cart_order    836\n",
       "reordered              0\n",
       "dtype: int64"
      ]
     },
     "execution_count": 33,
     "metadata": {},
     "output_type": "execute_result"
    }
   ],
   "source": [
    "# Encontre os valores ausentes\n",
    "df_order_products.isnull().sum()"
   ]
  },
  {
   "cell_type": "code",
   "execution_count": 34,
   "id": "9a78e5ee",
   "metadata": {
    "id": "9a78e5ee",
    "trusted": false
   },
   "outputs": [
    {
     "data": {
      "text/plain": [
       "min     1.0\n",
       "max    64.0\n",
       "Name: add_to_cart_order, dtype: float64"
      ]
     },
     "execution_count": 34,
     "metadata": {},
     "output_type": "execute_result"
    }
   ],
   "source": [
    "# Quais são os valores mínimo e máximo dessa coluna?\n",
    "df_order_products['add_to_cart_order'].agg(['min', 'max'])"
   ]
  },
  {
   "cell_type": "markdown",
   "id": "-Z2Ja215jW78",
   "metadata": {
    "id": "-Z2Ja215jW78"
   },
   "source": [
    "Descreva brevemente suas conclusões."
   ]
  },
  {
   "cell_type": "code",
   "execution_count": 35,
   "id": "ab9d0c2b",
   "metadata": {
    "id": "ab9d0c2b",
    "trusted": false
   },
   "outputs": [
    {
     "data": {
      "text/plain": [
       "[2449164, 1968313, 2926893, 1717990, 1959075]"
      ]
     },
     "execution_count": 35,
     "metadata": {},
     "output_type": "execute_result"
    }
   ],
   "source": [
    "# Salve todos os IDs dos pedidos com pelo menos um valor ausente em 'add_to_cart_order'\n",
    "ids_missing= df_order_products[df_order_products['add_to_cart_order'].isna()]['order_id'].drop_duplicates().to_list()\n",
    "ids_missing[:5]"
   ]
  },
  {
   "cell_type": "code",
   "execution_count": 36,
   "id": "54c31695",
   "metadata": {
    "id": "54c31695",
    "trusted": false
   },
   "outputs": [
    {
     "data": {
      "text/plain": [
       "65"
      ]
     },
     "execution_count": 36,
     "metadata": {},
     "output_type": "execute_result"
    }
   ],
   "source": [
    "# Todos os pedidos com valores ausentes contêm mais de 64 produtos?\n",
    "# Agrupe os pedidos com dados ausentes por ID de pedido\n",
    "# Conte o número de 'product_id' em cada pedido e verifique o valor mínimo da contagem\n",
    "df_order_products[df_order_products['order_id'].isin(ids_missing)].groupby('order_id')['product_id'].count().min()"
   ]
  },
  {
   "cell_type": "markdown",
   "id": "p9V6pddtjglj",
   "metadata": {
    "id": "p9V6pddtjglj"
   },
   "source": [
    "Descreva brevemente suas conclusões."
   ]
  },
  {
   "cell_type": "code",
   "execution_count": 37,
   "id": "7a987d08",
   "metadata": {
    "id": "7a987d08",
    "trusted": false
   },
   "outputs": [],
   "source": [
    "# Substitua valores ausentes na coluna 'add_to_cart_order' por 999 e converta a coluna para o tipo integer\n",
    "df_order_products['add_to_cart_order'] = df_order_products['add_to_cart_order'].fillna(999).astype(int)"
   ]
  },
  {
   "cell_type": "markdown",
   "id": "9bf0dd59",
   "metadata": {},
   "source": [
    "<div class=\"alert alert-block alert-success\">\n",
    "\n",
    "<b>Comentário: </b> <a class=\"tocSkip\"></a>\n",
    "\n",
    "A etapa de processamento de dados foi realizada corretamente! Parabéns\n",
    "</div>"
   ]
  },
  {
   "cell_type": "markdown",
   "id": "fea4bcc7",
   "metadata": {
    "id": "fea4bcc7"
   },
   "source": [
    "Descreva brevemente suas conclusões e o que você fez com elas."
   ]
  },
  {
   "cell_type": "markdown",
   "id": "RnplPFY1gSrb",
   "metadata": {
    "id": "RnplPFY1gSrb"
   },
   "source": [
    "## Conclusões\n",
    "\n",
    "Escreva aqui suas conclusões intermediárias da Etapa 2. Preparação de dados\n",
    "Tivemos que limpar os dados e encontramos alguns erros, como espaços em brancos e linhas duplicadas. "
   ]
  },
  {
   "cell_type": "markdown",
   "id": "UjrOIwTcz3ri",
   "metadata": {
    "id": "UjrOIwTcz3ri"
   },
   "source": [
    "# Etapa 3. Análise de dados\n",
    "\n",
    "Quando os dados estiverem processados ​​e prontos, execute a seguinte análise:"
   ]
  },
  {
   "cell_type": "markdown",
   "id": "turkish-kidney",
   "metadata": {
    "id": "turkish-kidney"
   },
   "source": [
    "# [A] Fácil (é necessário concluir tudo para passar)\n",
    "\n",
    "1.\tVerifique se os valores nas colunas `'order_hour_of_day'` e `'order_dow'` na tabela `orders` fazem sentido (ou seja, os valores da coluna  `'order_hour_of_day'` variam de 0 a 23 e os da `'order_dow'` variam de 0 a 6).\n",
    "2.\tCrie um gráfico que mostre quantas pessoas fazem pedidos a cada hora do dia.\n",
    "3.\tCrie um gráfico que mostre em que dia da semana as pessoas fazem compras.\n",
    "4.\tCrie um gráfico que mostre quanto tempo as pessoas esperam até fazer seu próximo pedido e comente sobre os valores mínimo e máximo.\n"
   ]
  },
  {
   "cell_type": "markdown",
   "id": "short-capability",
   "metadata": {
    "id": "short-capability"
   },
   "source": [
    "### [A1] Verifique se os valores fazem sentido"
   ]
  },
  {
   "cell_type": "code",
   "execution_count": 38,
   "id": "growing-fruit",
   "metadata": {
    "id": "growing-fruit",
    "trusted": false
   },
   "outputs": [
    {
     "data": {
      "text/plain": [
       "min     0\n",
       "max    23\n",
       "Name: order_hour_of_day, dtype: int64"
      ]
     },
     "execution_count": 38,
     "metadata": {},
     "output_type": "execute_result"
    }
   ],
   "source": [
    "df_orders['order_hour_of_day'].agg(['min', 'max'])"
   ]
  },
  {
   "cell_type": "code",
   "execution_count": 39,
   "id": "accessory-malaysia",
   "metadata": {
    "id": "accessory-malaysia",
    "trusted": false
   },
   "outputs": [
    {
     "data": {
      "text/plain": [
       "min    0\n",
       "max    6\n",
       "Name: order_dow, dtype: int64"
      ]
     },
     "execution_count": 39,
     "metadata": {},
     "output_type": "execute_result"
    }
   ],
   "source": [
    "df_orders['order_dow'].agg(['min','max'])"
   ]
  },
  {
   "cell_type": "markdown",
   "id": "hmR2GNQ6lCsX",
   "metadata": {
    "id": "hmR2GNQ6lCsX"
   },
   "source": [
    "Escreva suas conclusões aqui: eles variam de 0 a 23 e de 0 a 6"
   ]
  },
  {
   "cell_type": "markdown",
   "id": "a6743a70",
   "metadata": {
    "id": "a6743a70"
   },
   "source": [
    "### [A2] Quantas pessoas fazem pedidos a cada hora do dia?"
   ]
  },
  {
   "cell_type": "code",
   "execution_count": 40,
   "id": "a36cca27",
   "metadata": {
    "id": "a36cca27",
    "trusted": false
   },
   "outputs": [
    {
     "data": {
      "text/plain": [
       "<AxesSubplot:xlabel='order_hour_of_day'>"
      ]
     },
     "execution_count": 40,
     "metadata": {},
     "output_type": "execute_result"
    },
    {
     "data": {
      "image/png": "[encoded data removed]",
      "text/plain": [
       "<Figure size 640x480 with 1 Axes>"
      ]
     },
     "metadata": {},
     "output_type": "display_data"
    }
   ],
   "source": [
    "df_orders.groupby('order_hour_of_day')['order_id'].count().plot.bar()"
   ]
  },
  {
   "cell_type": "markdown",
   "id": "11270eed",
   "metadata": {
    "id": "11270eed"
   },
   "source": [
    "Escreva suas conclusões aqui a hora que as pessoas mais fazem pedidos no dia é as 15h da tarde"
   ]
  },
  {
   "cell_type": "markdown",
   "id": "documented-command",
   "metadata": {
    "id": "documented-command"
   },
   "source": [
    "### [A3] Em que dia da semana as pessoas compram produtos alimentícios?"
   ]
  },
  {
   "cell_type": "code",
   "execution_count": 41,
   "id": "chief-digit",
   "metadata": {
    "id": "chief-digit",
    "trusted": false
   },
   "outputs": [
    {
     "data": {
      "text/plain": [
       "<AxesSubplot:xlabel='order_dow'>"
      ]
     },
     "execution_count": 41,
     "metadata": {},
     "output_type": "execute_result"
    },
    {
     "data": {
      "image/png": "[encoded data removed]",
      "text/plain": [
       "<Figure size 640x480 with 1 Axes>"
      ]
     },
     "metadata": {},
     "output_type": "display_data"
    }
   ],
   "source": [
    "df_orders.groupby('order_dow')['order_id'].count().plot.bar()"
   ]
  },
  {
   "cell_type": "markdown",
   "id": "e99aa521",
   "metadata": {},
   "source": [
    "<div class=\"alert alert-block alert-warning\">\n",
    "<b>Comentário: </b> <a class=\"tocSkip\"></a>\n",
    "\n",
    "Seria possível adicionar os dias da semana no eixo X a partir do seguinte código: \n",
    "```python\n",
    "\n",
    "from matplotlib import pyplot as plt\n",
    "\n",
    "plot_data = df_orders_instacart.groupby('order_dow').user_id.count()\n",
    "dias_da_semana = {\n",
    "    0: 'Domingo',\n",
    "    1: 'Segunda-feira',\n",
    "    2: 'Terça-feira',\n",
    "    3: 'Quarta-feira',\n",
    "    4: 'Quinta-feira',\n",
    "    5: 'Sexta-feira',\n",
    "    6: 'Sábado'\n",
    "}\n",
    "df_orders_instacart['nome_dia'] = df_orders_instacart['order_dow'].map(dias_da_semana)\n",
    "compras_por_dia = df_orders_instacart['nome_dia'].value_counts()\n",
    "compras_por_dia = compras_por_dia.reindex(['Domingo', 'Segunda-feira', 'Terça-feira', 'Quarta-feira', 'Quinta-feira', 'Sexta-feira', 'Sábado'])\n",
    "fig, ax = plt.subplots(figsize=(10, 8))\n",
    "ax.bar(compras_por_dia.index, compras_por_dia.values, color='skyblue')\n",
    "ax.set_title('Dia da semana que as pessoas fazem compras')\n",
    "ax.set_xlabel('Pedidos por dia')\n",
    "ax.set_ylabel('Quantidade de compras')\n",
    "\n",
    "plt.show()\n",
    "```\n",
    "\n",
    "</div>"
   ]
  },
  {
   "cell_type": "markdown",
   "id": "dominant-lightning",
   "metadata": {
    "id": "dominant-lightning"
   },
   "source": [
    "Escreva suas conclusões aqui"
   ]
  },
  {
   "cell_type": "markdown",
   "id": "cutting-concert",
   "metadata": {
    "id": "cutting-concert"
   },
   "source": [
    "### [A4] Quanto tempo as pessoas esperam até fazer outro pedido?"
   ]
  },
  {
   "cell_type": "markdown",
   "id": "discrete-vertex",
   "metadata": {
    "id": "discrete-vertex"
   },
   "source": [
    "Escreva suas conclusões aqui"
   ]
  },
  {
   "cell_type": "code",
   "execution_count": 42,
   "id": "gMOIimGd5VNb",
   "metadata": {
    "id": "gMOIimGd5VNb",
    "trusted": false
   },
   "outputs": [
    {
     "data": {
      "text/plain": [
       "(0.0, 30.0)"
      ]
     },
     "execution_count": 42,
     "metadata": {},
     "output_type": "execute_result"
    },
    {
     "data": {
      "image/png": "[encoded data removed]",
      "text/plain": [
       "<Figure size 640x480 with 1 Axes>"
      ]
     },
     "metadata": {},
     "output_type": "display_data"
    }
   ],
   "source": [
    "df_orders['days_since_prior_order'].plot.hist()\n",
    "df_orders['days_since_prior_order'].min(), df_orders['days_since_prior_order'].max()"
   ]
  },
  {
   "cell_type": "markdown",
   "id": "tight-staff",
   "metadata": {
    "id": "tight-staff"
   },
   "source": [
    "# [B] Médio (é necessário concluir tudo para passar)\n",
    "\n",
    "1.\tHá alguma diferença nas distribuições de `'order_hour_of_day'` nas quartas e sábados? Construa gráficos de barras para ambos os dias no mesmo gráfico e descreva as diferenças que você notou.\n",
    "2.\tConstrua um gráfico de distribuição para o número de pedidos que os clientes fazem (ou seja, quantos clientes fizeram apenas 1 pedido, quantos fizeram apenas 2, quantos apenas 3, etc.)\n",
    "3.\tQuais são os 20 produtos comprados com mais frequência? Exiba os IDs e nomes.\n"
   ]
  },
  {
   "cell_type": "markdown",
   "id": "packed-classic",
   "metadata": {
    "id": "packed-classic"
   },
   "source": [
    "### [B1] Diferenças nas quartas e sábados em `'order_hour_of_day'`. Crie gráficos de barras para ambos os dias e descreva as diferenças."
   ]
  },
  {
   "cell_type": "code",
   "execution_count": 43,
   "id": "d89b8403",
   "metadata": {
    "id": "d89b8403",
    "trusted": false
   },
   "outputs": [
    {
     "data": {
      "text/plain": [
       "<AxesSubplot:>"
      ]
     },
     "execution_count": 43,
     "metadata": {},
     "output_type": "execute_result"
    },
    {
     "data": {
      "image/png": "[encoded data removed]",
      "text/plain": [
       "<Figure size 640x480 with 1 Axes>"
      ]
     },
     "metadata": {},
     "output_type": "display_data"
    }
   ],
   "source": [
    "df_orders[df_orders['order_dow']== 3]['order_hour_of_day'].value_counts().sort_index().plot.bar()\n"
   ]
  },
  {
   "cell_type": "code",
   "execution_count": 44,
   "id": "94e54e8a",
   "metadata": {
    "id": "94e54e8a",
    "trusted": false
   },
   "outputs": [
    {
     "data": {
      "text/plain": [
       "<AxesSubplot:>"
      ]
     },
     "execution_count": 44,
     "metadata": {},
     "output_type": "execute_result"
    },
    {
     "data": {
      "image/png": "[encoded data removed]",
      "text/plain": [
       "<Figure size 640x480 with 1 Axes>"
      ]
     },
     "metadata": {},
     "output_type": "display_data"
    }
   ],
   "source": [
    "df_orders[df_orders['order_dow']== 6]['order_hour_of_day'].value_counts().sort_index().plot.bar()\n"
   ]
  },
  {
   "cell_type": "code",
   "execution_count": null,
   "id": "797c90a8",
   "metadata": {
    "id": "797c90a8",
    "trusted": false
   },
   "outputs": [],
   "source": []
  },
  {
   "cell_type": "code",
   "execution_count": null,
   "id": "35bcea30",
   "metadata": {
    "id": "35bcea30",
    "trusted": false
   },
   "outputs": [],
   "source": []
  },
  {
   "cell_type": "markdown",
   "id": "charitable-congo",
   "metadata": {
    "id": "charitable-congo"
   },
   "source": [
    "Escreva suas conclusões aqui"
   ]
  },
  {
   "cell_type": "markdown",
   "id": "e3891143",
   "metadata": {
    "id": "e3891143"
   },
   "source": [
    "### [B2] Qual é a distribuição do número de pedidos por cliente?"
   ]
  },
  {
   "cell_type": "code",
   "execution_count": 45,
   "id": "d8c26c23",
   "metadata": {
    "id": "d8c26c23",
    "trusted": false
   },
   "outputs": [
    {
     "data": {
      "text/plain": [
       "<AxesSubplot:ylabel='Frequency'>"
      ]
     },
     "execution_count": 45,
     "metadata": {},
     "output_type": "execute_result"
    },
    {
     "data": {
      "image/png": "[encoded data removed]",
      "text/plain": [
       "<Figure size 640x480 with 1 Axes>"
      ]
     },
     "metadata": {},
     "output_type": "display_data"
    }
   ],
   "source": [
    "df_orders.groupby(['user_id'])['order_id'].count().plot.hist(bins=30)"
   ]
  },
  {
   "cell_type": "code",
   "execution_count": 46,
   "id": "00e69a66",
   "metadata": {
    "id": "00e69a66",
    "trusted": false
   },
   "outputs": [
    {
     "data": {
      "text/plain": [
       "<AxesSubplot:>"
      ]
     },
     "execution_count": 46,
     "metadata": {},
     "output_type": "execute_result"
    },
    {
     "data": {
      "image/png": "[encoded data removed]",
      "text/plain": [
       "<Figure size 640x480 with 1 Axes>"
      ]
     },
     "metadata": {},
     "output_type": "display_data"
    }
   ],
   "source": [
    "df_orders.groupby(['user_id'])['order_id'].count().value_counts().plot.bar()"
   ]
  },
  {
   "cell_type": "markdown",
   "id": "d2eff7d5",
   "metadata": {
    "id": "d2eff7d5"
   },
   "source": [
    "Escreva suas conclusões aqui"
   ]
  },
  {
   "cell_type": "markdown",
   "id": "54a0319c",
   "metadata": {
    "id": "54a0319c"
   },
   "source": [
    "### [B3] Quais são os 20 produtos mais populares? Exiba os IDs e nomes."
   ]
  },
  {
   "cell_type": "code",
   "execution_count": 47,
   "id": "exterior-arizona",
   "metadata": {
    "id": "exterior-arizona",
    "scrolled": true,
    "trusted": false
   },
   "outputs": [
    {
     "data": {
      "text/html": [
       "<div>\n",
       "<style scoped>\n",
       "    .dataframe tbody tr th:only-of-type {\n",
       "        vertical-align: middle;\n",
       "    }\n",
       "\n",
       "    .dataframe tbody tr th {\n",
       "        vertical-align: top;\n",
       "    }\n",
       "\n",
       "    .dataframe thead th {\n",
       "        text-align: right;\n",
       "    }\n",
       "</style>\n",
       "<table border=\"1\" class=\"dataframe\">\n",
       "  <thead>\n",
       "    <tr style=\"text-align: right;\">\n",
       "      <th></th>\n",
       "      <th>product_id</th>\n",
       "      <th>ctn</th>\n",
       "      <th>product_name</th>\n",
       "    </tr>\n",
       "  </thead>\n",
       "  <tbody>\n",
       "    <tr>\n",
       "      <th>0</th>\n",
       "      <td>24852</td>\n",
       "      <td>66050</td>\n",
       "      <td>banana</td>\n",
       "    </tr>\n",
       "    <tr>\n",
       "      <th>1</th>\n",
       "      <td>13176</td>\n",
       "      <td>53297</td>\n",
       "      <td>bag of organic bananas</td>\n",
       "    </tr>\n",
       "    <tr>\n",
       "      <th>2</th>\n",
       "      <td>21137</td>\n",
       "      <td>37039</td>\n",
       "      <td>organic strawberries</td>\n",
       "    </tr>\n",
       "    <tr>\n",
       "      <th>3</th>\n",
       "      <td>21903</td>\n",
       "      <td>33971</td>\n",
       "      <td>organic baby spinach</td>\n",
       "    </tr>\n",
       "    <tr>\n",
       "      <th>4</th>\n",
       "      <td>47209</td>\n",
       "      <td>29773</td>\n",
       "      <td>organic hass avocado</td>\n",
       "    </tr>\n",
       "    <tr>\n",
       "      <th>5</th>\n",
       "      <td>47766</td>\n",
       "      <td>24689</td>\n",
       "      <td>organic avocado</td>\n",
       "    </tr>\n",
       "    <tr>\n",
       "      <th>6</th>\n",
       "      <td>47626</td>\n",
       "      <td>21495</td>\n",
       "      <td>large lemon</td>\n",
       "    </tr>\n",
       "    <tr>\n",
       "      <th>7</th>\n",
       "      <td>16797</td>\n",
       "      <td>20018</td>\n",
       "      <td>strawberries</td>\n",
       "    </tr>\n",
       "    <tr>\n",
       "      <th>8</th>\n",
       "      <td>26209</td>\n",
       "      <td>19690</td>\n",
       "      <td>limes</td>\n",
       "    </tr>\n",
       "    <tr>\n",
       "      <th>9</th>\n",
       "      <td>27845</td>\n",
       "      <td>19600</td>\n",
       "      <td>organic whole milk</td>\n",
       "    </tr>\n",
       "    <tr>\n",
       "      <th>10</th>\n",
       "      <td>27966</td>\n",
       "      <td>19197</td>\n",
       "      <td>organic raspberries</td>\n",
       "    </tr>\n",
       "    <tr>\n",
       "      <th>11</th>\n",
       "      <td>22935</td>\n",
       "      <td>15898</td>\n",
       "      <td>organic yellow onion</td>\n",
       "    </tr>\n",
       "    <tr>\n",
       "      <th>12</th>\n",
       "      <td>24964</td>\n",
       "      <td>15292</td>\n",
       "      <td>organic garlic</td>\n",
       "    </tr>\n",
       "    <tr>\n",
       "      <th>13</th>\n",
       "      <td>45007</td>\n",
       "      <td>14584</td>\n",
       "      <td>organic zucchini</td>\n",
       "    </tr>\n",
       "    <tr>\n",
       "      <th>14</th>\n",
       "      <td>39275</td>\n",
       "      <td>13879</td>\n",
       "      <td>organic blueberries</td>\n",
       "    </tr>\n",
       "    <tr>\n",
       "      <th>15</th>\n",
       "      <td>49683</td>\n",
       "      <td>13675</td>\n",
       "      <td>cucumber kirby</td>\n",
       "    </tr>\n",
       "    <tr>\n",
       "      <th>16</th>\n",
       "      <td>28204</td>\n",
       "      <td>12544</td>\n",
       "      <td>organic fuji apple</td>\n",
       "    </tr>\n",
       "    <tr>\n",
       "      <th>17</th>\n",
       "      <td>5876</td>\n",
       "      <td>12232</td>\n",
       "      <td>organic lemon</td>\n",
       "    </tr>\n",
       "    <tr>\n",
       "      <th>18</th>\n",
       "      <td>8277</td>\n",
       "      <td>11993</td>\n",
       "      <td>apple honeycrisp organic</td>\n",
       "    </tr>\n",
       "    <tr>\n",
       "      <th>19</th>\n",
       "      <td>40706</td>\n",
       "      <td>11781</td>\n",
       "      <td>organic grape tomatoes</td>\n",
       "    </tr>\n",
       "  </tbody>\n",
       "</table>\n",
       "</div>"
      ],
      "text/plain": [
       "    product_id    ctn              product_name\n",
       "0        24852  66050                    banana\n",
       "1        13176  53297    bag of organic bananas\n",
       "2        21137  37039      organic strawberries\n",
       "3        21903  33971      organic baby spinach\n",
       "4        47209  29773      organic hass avocado\n",
       "5        47766  24689           organic avocado\n",
       "6        47626  21495               large lemon\n",
       "7        16797  20018              strawberries\n",
       "8        26209  19690                     limes\n",
       "9        27845  19600        organic whole milk\n",
       "10       27966  19197       organic raspberries\n",
       "11       22935  15898      organic yellow onion\n",
       "12       24964  15292            organic garlic\n",
       "13       45007  14584          organic zucchini\n",
       "14       39275  13879       organic blueberries\n",
       "15       49683  13675            cucumber kirby\n",
       "16       28204  12544        organic fuji apple\n",
       "17        5876  12232             organic lemon\n",
       "18        8277  11993  apple honeycrisp organic\n",
       "19       40706  11781    organic grape tomatoes"
      ]
     },
     "execution_count": 47,
     "metadata": {},
     "output_type": "execute_result"
    }
   ],
   "source": [
    "df_ranking = df_order_products['product_id'].value_counts().head(20).reset_index()\n",
    "df_ranking.columns = ['product_id', 'ctn']\n",
    "\n",
    "\n",
    "pd.merge(df_ranking, df_products[['product_name', 'product_id']], on= 'product_id')"
   ]
  },
  {
   "cell_type": "code",
   "execution_count": 48,
   "id": "bbcdd20b",
   "metadata": {
    "id": "bbcdd20b",
    "trusted": false
   },
   "outputs": [
    {
     "data": {
      "text/html": [
       "<div>\n",
       "<style scoped>\n",
       "    .dataframe tbody tr th:only-of-type {\n",
       "        vertical-align: middle;\n",
       "    }\n",
       "\n",
       "    .dataframe tbody tr th {\n",
       "        vertical-align: top;\n",
       "    }\n",
       "\n",
       "    .dataframe thead th {\n",
       "        text-align: right;\n",
       "    }\n",
       "</style>\n",
       "<table border=\"1\" class=\"dataframe\">\n",
       "  <thead>\n",
       "    <tr style=\"text-align: right;\">\n",
       "      <th></th>\n",
       "      <th>product_id</th>\n",
       "      <th>ctn</th>\n",
       "      <th>product_name</th>\n",
       "    </tr>\n",
       "  </thead>\n",
       "  <tbody>\n",
       "    <tr>\n",
       "      <th>0</th>\n",
       "      <td>24852</td>\n",
       "      <td>66050</td>\n",
       "      <td>banana</td>\n",
       "    </tr>\n",
       "    <tr>\n",
       "      <th>1</th>\n",
       "      <td>13176</td>\n",
       "      <td>53297</td>\n",
       "      <td>bag of organic bananas</td>\n",
       "    </tr>\n",
       "    <tr>\n",
       "      <th>2</th>\n",
       "      <td>21137</td>\n",
       "      <td>37039</td>\n",
       "      <td>organic strawberries</td>\n",
       "    </tr>\n",
       "    <tr>\n",
       "      <th>3</th>\n",
       "      <td>21903</td>\n",
       "      <td>33971</td>\n",
       "      <td>organic baby spinach</td>\n",
       "    </tr>\n",
       "    <tr>\n",
       "      <th>4</th>\n",
       "      <td>47209</td>\n",
       "      <td>29773</td>\n",
       "      <td>organic hass avocado</td>\n",
       "    </tr>\n",
       "    <tr>\n",
       "      <th>5</th>\n",
       "      <td>47766</td>\n",
       "      <td>24689</td>\n",
       "      <td>organic avocado</td>\n",
       "    </tr>\n",
       "    <tr>\n",
       "      <th>6</th>\n",
       "      <td>47626</td>\n",
       "      <td>21495</td>\n",
       "      <td>large lemon</td>\n",
       "    </tr>\n",
       "    <tr>\n",
       "      <th>7</th>\n",
       "      <td>16797</td>\n",
       "      <td>20018</td>\n",
       "      <td>strawberries</td>\n",
       "    </tr>\n",
       "    <tr>\n",
       "      <th>8</th>\n",
       "      <td>26209</td>\n",
       "      <td>19690</td>\n",
       "      <td>limes</td>\n",
       "    </tr>\n",
       "    <tr>\n",
       "      <th>9</th>\n",
       "      <td>27845</td>\n",
       "      <td>19600</td>\n",
       "      <td>organic whole milk</td>\n",
       "    </tr>\n",
       "    <tr>\n",
       "      <th>10</th>\n",
       "      <td>27966</td>\n",
       "      <td>19197</td>\n",
       "      <td>organic raspberries</td>\n",
       "    </tr>\n",
       "    <tr>\n",
       "      <th>11</th>\n",
       "      <td>22935</td>\n",
       "      <td>15898</td>\n",
       "      <td>organic yellow onion</td>\n",
       "    </tr>\n",
       "    <tr>\n",
       "      <th>12</th>\n",
       "      <td>24964</td>\n",
       "      <td>15292</td>\n",
       "      <td>organic garlic</td>\n",
       "    </tr>\n",
       "    <tr>\n",
       "      <th>13</th>\n",
       "      <td>45007</td>\n",
       "      <td>14584</td>\n",
       "      <td>organic zucchini</td>\n",
       "    </tr>\n",
       "    <tr>\n",
       "      <th>14</th>\n",
       "      <td>39275</td>\n",
       "      <td>13879</td>\n",
       "      <td>organic blueberries</td>\n",
       "    </tr>\n",
       "    <tr>\n",
       "      <th>15</th>\n",
       "      <td>49683</td>\n",
       "      <td>13675</td>\n",
       "      <td>cucumber kirby</td>\n",
       "    </tr>\n",
       "    <tr>\n",
       "      <th>16</th>\n",
       "      <td>28204</td>\n",
       "      <td>12544</td>\n",
       "      <td>organic fuji apple</td>\n",
       "    </tr>\n",
       "    <tr>\n",
       "      <th>17</th>\n",
       "      <td>5876</td>\n",
       "      <td>12232</td>\n",
       "      <td>organic lemon</td>\n",
       "    </tr>\n",
       "    <tr>\n",
       "      <th>18</th>\n",
       "      <td>8277</td>\n",
       "      <td>11993</td>\n",
       "      <td>apple honeycrisp organic</td>\n",
       "    </tr>\n",
       "    <tr>\n",
       "      <th>19</th>\n",
       "      <td>40706</td>\n",
       "      <td>11781</td>\n",
       "      <td>organic grape tomatoes</td>\n",
       "    </tr>\n",
       "  </tbody>\n",
       "</table>\n",
       "</div>"
      ],
      "text/plain": [
       "    product_id    ctn              product_name\n",
       "0        24852  66050                    banana\n",
       "1        13176  53297    bag of organic bananas\n",
       "2        21137  37039      organic strawberries\n",
       "3        21903  33971      organic baby spinach\n",
       "4        47209  29773      organic hass avocado\n",
       "5        47766  24689           organic avocado\n",
       "6        47626  21495               large lemon\n",
       "7        16797  20018              strawberries\n",
       "8        26209  19690                     limes\n",
       "9        27845  19600        organic whole milk\n",
       "10       27966  19197       organic raspberries\n",
       "11       22935  15898      organic yellow onion\n",
       "12       24964  15292            organic garlic\n",
       "13       45007  14584          organic zucchini\n",
       "14       39275  13879       organic blueberries\n",
       "15       49683  13675            cucumber kirby\n",
       "16       28204  12544        organic fuji apple\n",
       "17        5876  12232             organic lemon\n",
       "18        8277  11993  apple honeycrisp organic\n",
       "19       40706  11781    organic grape tomatoes"
      ]
     },
     "execution_count": 48,
     "metadata": {},
     "output_type": "execute_result"
    }
   ],
   "source": [
    "#Codigo ajustado pela revisora - faltava o () no reset_index() \n",
    "df_ranking = df_order_products['product_id'].value_counts().head(20).reset_index()\n",
    "df_ranking.columns = ['product_id', 'ctn']\n",
    "\n",
    "\n",
    "pd.merge(df_ranking, df_products[['product_name', 'product_id']], on= 'product_id')"
   ]
  },
  {
   "cell_type": "markdown",
   "id": "romantic-deposit",
   "metadata": {
    "id": "romantic-deposit"
   },
   "source": [
    "### [C1] Quantos itens as pessoas normalmente compram em um pedido? Como fica a distribuição?"
   ]
  },
  {
   "cell_type": "code",
   "execution_count": 49,
   "id": "virtual-punch",
   "metadata": {
    "id": "virtual-punch",
    "trusted": false
   },
   "outputs": [
    {
     "data": {
      "text/plain": [
       "10.098983215049127"
      ]
     },
     "execution_count": 49,
     "metadata": {},
     "output_type": "execute_result"
    }
   ],
   "source": [
    "df_order_products.groupby(['order_id'])['product_id'].count().mean()"
   ]
  },
  {
   "cell_type": "code",
   "execution_count": 50,
   "id": "sensitive-breathing",
   "metadata": {
    "id": "sensitive-breathing",
    "trusted": false
   },
   "outputs": [
    {
     "data": {
      "text/plain": [
       "<AxesSubplot:ylabel='Frequency'>"
      ]
     },
     "execution_count": 50,
     "metadata": {},
     "output_type": "execute_result"
    },
    {
     "data": {
      "image/png": "[encoded data removed]",
      "text/plain": [
       "<Figure size 640x480 with 1 Axes>"
      ]
     },
     "metadata": {},
     "output_type": "display_data"
    }
   ],
   "source": [
    "df_order_products.groupby(['order_id'])['product_id'].count().plot.hist(bins=40)"
   ]
  },
  {
   "cell_type": "markdown",
   "id": "5e6b5537",
   "metadata": {
    "id": "5e6b5537"
   },
   "source": [
    "### [C2] Quais são os 20 principais itens incluídos com mais frequência em pedidos repetidos? Exiba os IDs e nomes."
   ]
  },
  {
   "cell_type": "code",
   "execution_count": 52,
   "id": "9374e55a",
   "metadata": {
    "id": "9374e55a",
    "trusted": false
   },
   "outputs": [
    {
     "data": {
      "text/html": [
       "<div>\n",
       "<style scoped>\n",
       "    .dataframe tbody tr th:only-of-type {\n",
       "        vertical-align: middle;\n",
       "    }\n",
       "\n",
       "    .dataframe tbody tr th {\n",
       "        vertical-align: top;\n",
       "    }\n",
       "\n",
       "    .dataframe thead th {\n",
       "        text-align: right;\n",
       "    }\n",
       "</style>\n",
       "<table border=\"1\" class=\"dataframe\">\n",
       "  <thead>\n",
       "    <tr style=\"text-align: right;\">\n",
       "      <th></th>\n",
       "      <th>product_id</th>\n",
       "      <th>ctn</th>\n",
       "      <th>product_name</th>\n",
       "    </tr>\n",
       "  </thead>\n",
       "  <tbody>\n",
       "    <tr>\n",
       "      <th>0</th>\n",
       "      <td>24852</td>\n",
       "      <td>55763</td>\n",
       "      <td>banana</td>\n",
       "    </tr>\n",
       "    <tr>\n",
       "      <th>1</th>\n",
       "      <td>13176</td>\n",
       "      <td>44450</td>\n",
       "      <td>bag of organic bananas</td>\n",
       "    </tr>\n",
       "    <tr>\n",
       "      <th>2</th>\n",
       "      <td>21137</td>\n",
       "      <td>28639</td>\n",
       "      <td>organic strawberries</td>\n",
       "    </tr>\n",
       "    <tr>\n",
       "      <th>3</th>\n",
       "      <td>21903</td>\n",
       "      <td>26233</td>\n",
       "      <td>organic baby spinach</td>\n",
       "    </tr>\n",
       "    <tr>\n",
       "      <th>4</th>\n",
       "      <td>47209</td>\n",
       "      <td>23629</td>\n",
       "      <td>organic hass avocado</td>\n",
       "    </tr>\n",
       "    <tr>\n",
       "      <th>5</th>\n",
       "      <td>47766</td>\n",
       "      <td>18743</td>\n",
       "      <td>organic avocado</td>\n",
       "    </tr>\n",
       "    <tr>\n",
       "      <th>6</th>\n",
       "      <td>27845</td>\n",
       "      <td>16251</td>\n",
       "      <td>organic whole milk</td>\n",
       "    </tr>\n",
       "    <tr>\n",
       "      <th>7</th>\n",
       "      <td>47626</td>\n",
       "      <td>15044</td>\n",
       "      <td>large lemon</td>\n",
       "    </tr>\n",
       "    <tr>\n",
       "      <th>8</th>\n",
       "      <td>27966</td>\n",
       "      <td>14748</td>\n",
       "      <td>organic raspberries</td>\n",
       "    </tr>\n",
       "    <tr>\n",
       "      <th>9</th>\n",
       "      <td>16797</td>\n",
       "      <td>13945</td>\n",
       "      <td>strawberries</td>\n",
       "    </tr>\n",
       "    <tr>\n",
       "      <th>10</th>\n",
       "      <td>26209</td>\n",
       "      <td>13327</td>\n",
       "      <td>limes</td>\n",
       "    </tr>\n",
       "    <tr>\n",
       "      <th>11</th>\n",
       "      <td>22935</td>\n",
       "      <td>11145</td>\n",
       "      <td>organic yellow onion</td>\n",
       "    </tr>\n",
       "    <tr>\n",
       "      <th>12</th>\n",
       "      <td>24964</td>\n",
       "      <td>10411</td>\n",
       "      <td>organic garlic</td>\n",
       "    </tr>\n",
       "    <tr>\n",
       "      <th>13</th>\n",
       "      <td>45007</td>\n",
       "      <td>10076</td>\n",
       "      <td>organic zucchini</td>\n",
       "    </tr>\n",
       "    <tr>\n",
       "      <th>14</th>\n",
       "      <td>49683</td>\n",
       "      <td>9538</td>\n",
       "      <td>cucumber kirby</td>\n",
       "    </tr>\n",
       "    <tr>\n",
       "      <th>15</th>\n",
       "      <td>28204</td>\n",
       "      <td>8989</td>\n",
       "      <td>organic fuji apple</td>\n",
       "    </tr>\n",
       "    <tr>\n",
       "      <th>16</th>\n",
       "      <td>8277</td>\n",
       "      <td>8836</td>\n",
       "      <td>apple honeycrisp organic</td>\n",
       "    </tr>\n",
       "    <tr>\n",
       "      <th>17</th>\n",
       "      <td>39275</td>\n",
       "      <td>8799</td>\n",
       "      <td>organic blueberries</td>\n",
       "    </tr>\n",
       "    <tr>\n",
       "      <th>18</th>\n",
       "      <td>5876</td>\n",
       "      <td>8412</td>\n",
       "      <td>organic lemon</td>\n",
       "    </tr>\n",
       "    <tr>\n",
       "      <th>19</th>\n",
       "      <td>49235</td>\n",
       "      <td>8389</td>\n",
       "      <td>organic half &amp; half</td>\n",
       "    </tr>\n",
       "  </tbody>\n",
       "</table>\n",
       "</div>"
      ],
      "text/plain": [
       "    product_id    ctn              product_name\n",
       "0        24852  55763                    banana\n",
       "1        13176  44450    bag of organic bananas\n",
       "2        21137  28639      organic strawberries\n",
       "3        21903  26233      organic baby spinach\n",
       "4        47209  23629      organic hass avocado\n",
       "5        47766  18743           organic avocado\n",
       "6        27845  16251        organic whole milk\n",
       "7        47626  15044               large lemon\n",
       "8        27966  14748       organic raspberries\n",
       "9        16797  13945              strawberries\n",
       "10       26209  13327                     limes\n",
       "11       22935  11145      organic yellow onion\n",
       "12       24964  10411            organic garlic\n",
       "13       45007  10076          organic zucchini\n",
       "14       49683   9538            cucumber kirby\n",
       "15       28204   8989        organic fuji apple\n",
       "16        8277   8836  apple honeycrisp organic\n",
       "17       39275   8799       organic blueberries\n",
       "18        5876   8412             organic lemon\n",
       "19       49235   8389       organic half & half"
      ]
     },
     "execution_count": 52,
     "metadata": {},
     "output_type": "execute_result"
    }
   ],
   "source": [
    "df_ranking = df_order_products[df_order_products['reordered']==1]['product_id'].value_counts().head(20).reset_index()\n",
    "df_ranking.columns = ['product_id', 'ctn']\n",
    "\n",
    "\n",
    "pd.merge(df_ranking, df_products[['product_name', 'product_id']], on= 'product_id')"
   ]
  },
  {
   "cell_type": "code",
   "execution_count": null,
   "id": "possible-change",
   "metadata": {
    "id": "possible-change",
    "scrolled": true,
    "trusted": false
   },
   "outputs": [],
   "source": [
    "#Codigo ajustado pela revisora \n",
    "df_ranking = df_order_products[df_order_products['reordered']==1]['product_id'].value_counts().head(20).reset_index()\n",
    "df_ranking.columns = ['product_id', 'ctn']\n",
    "\n",
    "\n",
    "pd.merge(df_ranking, df_products[['product_name', 'product_id']], on= 'product_id')"
   ]
  },
  {
   "cell_type": "markdown",
   "id": "1330b270",
   "metadata": {},
   "source": [
    "# Conclusões\n",
    "Durante o processo de limpeza dos dados, identificamos e corrigimos problemas como:\n",
    "\n",
    "Linhas duplicadas que poderiam comprometer a análise de frequência de pedidos.\n",
    "\n",
    "Presença de espaços em branco que afetavam a consistência e integridade dos dados em algumas colunas.\n",
    "\n",
    "Essa etapa foi essencial para garantir que as análises seguintes fossem baseadas em dados confiáveis.\n",
    "O maior volume de pedidos ocorre às 15h, indicando que a tarde é o período mais ativo para compras.\n",
    "A maioria dos pedidos ocorre aos domingos e segundas-feiras.\n",
    "\n",
    "Isso pode indicar um comportamento de reabastecimento no início da semana.\n",
    "\n",
    "O tempo de espera entre pedidos varia entre 0 e 30 dias.\n",
    "\n",
    "Essa variação sugere perfis distintos de consumo — desde consumidores frequentes até mensais.\n",
    "O comportamento de compra muda entre dias úteis e finais de semana.\n",
    "Itens básicos de consumo diário tendem a ser incluídos frequentemente em pedidos recorrentes."
   ]
  }
 ],
 "metadata": {
  "ExecuteTimeLog": [
   {
    "duration": 162,
    "start_time": "2025-04-28T20:31:03.052Z"
   },
   {
    "duration": 362,
    "start_time": "2025-04-28T20:32:40.318Z"
   },
   {
    "duration": 2248,
    "start_time": "2025-04-28T20:32:41.673Z"
   },
   {
    "duration": 21,
    "start_time": "2025-04-28T20:32:43.923Z"
   },
   {
    "duration": 9,
    "start_time": "2025-04-28T20:33:03.312Z"
   },
   {
    "duration": 10,
    "start_time": "2025-04-28T20:33:20.083Z"
   },
   {
    "duration": 7,
    "start_time": "2025-04-28T20:34:17.546Z"
   },
   {
    "duration": 127,
    "start_time": "2025-04-28T21:25:28.865Z"
   },
   {
    "duration": 158,
    "start_time": "2025-04-29T12:45:57.999Z"
   },
   {
    "duration": 12,
    "start_time": "2025-04-29T12:46:09.487Z"
   },
   {
    "duration": 315,
    "start_time": "2025-04-29T12:46:26.325Z"
   },
   {
    "duration": 2129,
    "start_time": "2025-04-29T12:46:27.315Z"
   },
   {
    "duration": 20,
    "start_time": "2025-04-29T12:46:32.081Z"
   },
   {
    "duration": 9,
    "start_time": "2025-04-29T12:46:33.229Z"
   },
   {
    "duration": 7,
    "start_time": "2025-04-29T12:46:34.083Z"
   },
   {
    "duration": 7,
    "start_time": "2025-04-29T12:46:36.751Z"
   },
   {
    "duration": 131,
    "start_time": "2025-04-29T12:46:38.149Z"
   },
   {
    "duration": 903,
    "start_time": "2025-04-29T12:50:25.351Z"
   },
   {
    "duration": 11,
    "start_time": "2025-04-29T12:50:26.995Z"
   },
   {
    "duration": 10,
    "start_time": "2025-04-29T12:50:37.039Z"
   },
   {
    "duration": 8,
    "start_time": "2025-04-29T12:50:39.345Z"
   },
   {
    "duration": 9,
    "start_time": "2025-04-29T12:50:41.324Z"
   },
   {
    "duration": 23,
    "start_time": "2025-04-29T12:50:43.467Z"
   },
   {
    "duration": 105,
    "start_time": "2025-04-29T13:09:32.055Z"
   },
   {
    "duration": 76,
    "start_time": "2025-04-29T13:17:36.665Z"
   },
   {
    "duration": 81,
    "start_time": "2025-04-29T13:17:58.779Z"
   },
   {
    "duration": 77,
    "start_time": "2025-04-29T13:31:06.809Z"
   },
   {
    "duration": 77,
    "start_time": "2025-04-29T13:33:31.008Z"
   },
   {
    "duration": 85,
    "start_time": "2025-04-29T13:38:04.092Z"
   },
   {
    "duration": 13,
    "start_time": "2025-04-29T13:44:41.003Z"
   },
   {
    "duration": 2,
    "start_time": "2025-04-29T13:46:38.531Z"
   },
   {
    "duration": 90,
    "start_time": "2025-04-29T13:47:48.274Z"
   },
   {
    "duration": 92,
    "start_time": "2025-04-29T13:49:00.247Z"
   },
   {
    "duration": 157,
    "start_time": "2025-04-29T13:49:09.814Z"
   },
   {
    "duration": 41,
    "start_time": "2025-04-29T13:50:06.574Z"
   },
   {
    "duration": 77,
    "start_time": "2025-04-29T13:51:17.016Z"
   },
   {
    "duration": 81,
    "start_time": "2025-04-29T13:51:18.825Z"
   },
   {
    "duration": 2,
    "start_time": "2025-04-29T13:52:12.960Z"
   },
   {
    "duration": 37,
    "start_time": "2025-04-29T13:52:16.868Z"
   },
   {
    "duration": 39,
    "start_time": "2025-04-29T14:36:58.150Z"
   },
   {
    "duration": 38,
    "start_time": "2025-04-29T14:37:50.268Z"
   },
   {
    "duration": 36,
    "start_time": "2025-04-29T14:38:13.296Z"
   },
   {
    "duration": 39,
    "start_time": "2025-04-29T14:38:45.180Z"
   },
   {
    "duration": 67,
    "start_time": "2025-04-29T14:39:47.219Z"
   },
   {
    "duration": 18,
    "start_time": "2025-04-29T14:42:21.598Z"
   },
   {
    "duration": 80,
    "start_time": "2025-04-29T14:44:11.395Z"
   },
   {
    "duration": 8,
    "start_time": "2025-04-29T14:44:13.422Z"
   },
   {
    "duration": 74,
    "start_time": "2025-04-29T14:44:17.584Z"
   },
   {
    "duration": 7,
    "start_time": "2025-04-29T14:44:22.465Z"
   },
   {
    "duration": 288,
    "start_time": "2025-04-29T14:44:53.584Z"
   },
   {
    "duration": 949,
    "start_time": "2025-04-29T14:44:54.225Z"
   },
   {
    "duration": 11,
    "start_time": "2025-04-29T14:44:55.175Z"
   },
   {
    "duration": 10,
    "start_time": "2025-04-29T14:44:55.304Z"
   },
   {
    "duration": 9,
    "start_time": "2025-04-29T14:44:59.067Z"
   },
   {
    "duration": 9,
    "start_time": "2025-04-29T14:44:59.885Z"
   },
   {
    "duration": 24,
    "start_time": "2025-04-29T14:45:00.391Z"
   },
   {
    "duration": 101,
    "start_time": "2025-04-29T14:45:03.634Z"
   },
   {
    "duration": 15,
    "start_time": "2025-04-29T14:50:09.476Z"
   },
   {
    "duration": 94,
    "start_time": "2025-04-29T14:50:13.565Z"
   },
   {
    "duration": 89,
    "start_time": "2025-04-29T14:50:14.377Z"
   },
   {
    "duration": 49,
    "start_time": "2025-04-29T14:50:15.654Z"
   },
   {
    "duration": 16,
    "start_time": "2025-04-29T14:50:18.834Z"
   },
   {
    "duration": 6,
    "start_time": "2025-04-29T14:51:49.472Z"
   },
   {
    "duration": 10,
    "start_time": "2025-04-29T14:54:06.273Z"
   },
   {
    "duration": 10,
    "start_time": "2025-04-29T14:55:18.447Z"
   },
   {
    "duration": 8,
    "start_time": "2025-04-29T14:55:24.228Z"
   },
   {
    "duration": 9,
    "start_time": "2025-04-29T14:55:29.803Z"
   },
   {
    "duration": 81,
    "start_time": "2025-04-29T14:57:14.674Z"
   },
   {
    "duration": 285,
    "start_time": "2025-04-29T14:57:31.300Z"
   },
   {
    "duration": 871,
    "start_time": "2025-04-29T14:57:31.757Z"
   },
   {
    "duration": 11,
    "start_time": "2025-04-29T14:57:32.630Z"
   },
   {
    "duration": 10,
    "start_time": "2025-04-29T14:57:32.643Z"
   },
   {
    "duration": 9,
    "start_time": "2025-04-29T14:57:32.905Z"
   },
   {
    "duration": 8,
    "start_time": "2025-04-29T14:57:35.389Z"
   },
   {
    "duration": 24,
    "start_time": "2025-04-29T14:57:35.817Z"
   },
   {
    "duration": 94,
    "start_time": "2025-04-29T14:57:39.463Z"
   },
   {
    "duration": 91,
    "start_time": "2025-04-29T15:00:13.288Z"
   },
   {
    "duration": 159,
    "start_time": "2025-04-29T17:47:32.024Z"
   },
   {
    "duration": 269,
    "start_time": "2025-04-29T17:47:56.399Z"
   },
   {
    "duration": 956,
    "start_time": "2025-04-29T17:47:56.877Z"
   },
   {
    "duration": 12,
    "start_time": "2025-04-29T17:47:57.837Z"
   },
   {
    "duration": 12,
    "start_time": "2025-04-29T17:47:58.906Z"
   },
   {
    "duration": 9,
    "start_time": "2025-04-29T17:47:59.851Z"
   },
   {
    "duration": 9,
    "start_time": "2025-04-29T17:48:00.576Z"
   },
   {
    "duration": 24,
    "start_time": "2025-04-29T17:48:02.822Z"
   },
   {
    "duration": 83,
    "start_time": "2025-04-29T17:48:08.226Z"
   },
   {
    "duration": 83,
    "start_time": "2025-04-29T17:48:12.005Z"
   },
   {
    "duration": 8,
    "start_time": "2025-04-29T17:48:14.862Z"
   },
   {
    "duration": 86,
    "start_time": "2025-04-29T17:48:19.152Z"
   },
   {
    "duration": 80,
    "start_time": "2025-04-29T17:48:20.359Z"
   },
   {
    "duration": 44,
    "start_time": "2025-04-29T17:48:21.947Z"
   },
   {
    "duration": 15,
    "start_time": "2025-04-29T17:50:27.738Z"
   },
   {
    "duration": 5,
    "start_time": "2025-04-29T17:57:43.917Z"
   },
   {
    "duration": 6,
    "start_time": "2025-04-29T17:59:13.462Z"
   },
   {
    "duration": 6,
    "start_time": "2025-04-29T18:00:39.516Z"
   },
   {
    "duration": 15,
    "start_time": "2025-04-29T18:06:17.153Z"
   },
   {
    "duration": 365,
    "start_time": "2025-04-29T18:06:44.629Z"
   },
   {
    "duration": 34,
    "start_time": "2025-04-29T18:06:58.993Z"
   },
   {
    "duration": 22,
    "start_time": "2025-04-29T18:07:31.897Z"
   },
   {
    "duration": 20,
    "start_time": "2025-04-29T18:07:41.298Z"
   },
   {
    "duration": 19,
    "start_time": "2025-04-29T18:08:26.844Z"
   },
   {
    "duration": 25,
    "start_time": "2025-04-29T18:11:03.552Z"
   },
   {
    "duration": 20,
    "start_time": "2025-04-29T18:13:19.964Z"
   },
   {
    "duration": 4,
    "start_time": "2025-04-29T18:15:22.516Z"
   },
   {
    "duration": 5,
    "start_time": "2025-04-29T18:16:01.308Z"
   },
   {
    "duration": 5,
    "start_time": "2025-04-29T18:16:52.597Z"
   },
   {
    "duration": 19,
    "start_time": "2025-04-29T18:16:53.505Z"
   },
   {
    "duration": 28,
    "start_time": "2025-04-29T18:17:06.032Z"
   },
   {
    "duration": 6,
    "start_time": "2025-04-29T18:17:25.016Z"
   },
   {
    "duration": 768,
    "start_time": "2025-04-29T18:22:55.081Z"
   },
   {
    "duration": 16,
    "start_time": "2025-04-29T18:23:21.069Z"
   },
   {
    "duration": 7,
    "start_time": "2025-04-29T18:24:02.188Z"
   },
   {
    "duration": 6,
    "start_time": "2025-04-29T18:25:24.740Z"
   },
   {
    "duration": 21,
    "start_time": "2025-04-29T18:25:47.099Z"
   },
   {
    "duration": 618,
    "start_time": "2025-04-29T18:28:50.431Z"
   },
   {
    "duration": 13,
    "start_time": "2025-04-29T18:35:16.473Z"
   },
   {
    "duration": 3,
    "start_time": "2025-04-29T18:35:44.049Z"
   },
   {
    "duration": 4,
    "start_time": "2025-04-29T18:35:50.340Z"
   },
   {
    "duration": 16,
    "start_time": "2025-04-29T18:36:09.752Z"
   },
   {
    "duration": 6,
    "start_time": "2025-04-29T18:36:20.690Z"
   },
   {
    "duration": 8,
    "start_time": "2025-04-29T18:41:31.425Z"
   },
   {
    "duration": 3,
    "start_time": "2025-04-29T18:46:13.307Z"
   },
   {
    "duration": 11,
    "start_time": "2025-04-29T18:46:57.744Z"
   },
   {
    "duration": 6,
    "start_time": "2025-04-29T18:48:03.097Z"
   },
   {
    "duration": 210,
    "start_time": "2025-04-29T18:49:44.313Z"
   },
   {
    "duration": 43,
    "start_time": "2025-04-29T18:50:30.504Z"
   },
   {
    "duration": 6,
    "start_time": "2025-04-29T18:51:07.782Z"
   },
   {
    "duration": 4,
    "start_time": "2025-04-29T18:53:30.452Z"
   },
   {
    "duration": 4,
    "start_time": "2025-04-29T18:53:52.061Z"
   },
   {
    "duration": 6,
    "start_time": "2025-04-29T18:54:05.274Z"
   },
   {
    "duration": 7,
    "start_time": "2025-04-29T18:54:45.460Z"
   },
   {
    "duration": 5,
    "start_time": "2025-04-29T18:56:47.082Z"
   },
   {
    "duration": 5,
    "start_time": "2025-04-29T18:56:58.138Z"
   },
   {
    "duration": 9,
    "start_time": "2025-04-29T18:58:44.965Z"
   },
   {
    "duration": 6,
    "start_time": "2025-04-29T18:59:47.219Z"
   },
   {
    "duration": 9,
    "start_time": "2025-04-29T19:00:41.387Z"
   },
   {
    "duration": 4,
    "start_time": "2025-04-29T19:44:07.597Z"
   },
   {
    "duration": 13,
    "start_time": "2025-04-29T19:44:14.085Z"
   },
   {
    "duration": 7,
    "start_time": "2025-04-29T19:45:12.289Z"
   },
   {
    "duration": 7,
    "start_time": "2025-04-29T19:45:30.199Z"
   },
   {
    "duration": 16,
    "start_time": "2025-04-29T19:45:52.431Z"
   },
   {
    "duration": 7,
    "start_time": "2025-04-29T19:45:59.376Z"
   },
   {
    "duration": 8,
    "start_time": "2025-04-29T19:47:00.934Z"
   },
   {
    "duration": 17,
    "start_time": "2025-04-29T19:50:16.668Z"
   },
   {
    "duration": 33,
    "start_time": "2025-04-29T19:52:05.372Z"
   },
   {
    "duration": 13,
    "start_time": "2025-04-29T19:54:09.599Z"
   },
   {
    "duration": 15,
    "start_time": "2025-04-29T19:54:51.836Z"
   },
   {
    "duration": 7,
    "start_time": "2025-04-29T19:55:17.742Z"
   },
   {
    "duration": 8,
    "start_time": "2025-04-29T19:55:26.337Z"
   },
   {
    "duration": 5,
    "start_time": "2025-04-29T19:58:12.088Z"
   },
   {
    "duration": 6,
    "start_time": "2025-04-29T19:58:30.342Z"
   },
   {
    "duration": 5,
    "start_time": "2025-04-29T20:00:31.094Z"
   },
   {
    "duration": 13,
    "start_time": "2025-04-29T20:01:15.657Z"
   },
   {
    "duration": 14,
    "start_time": "2025-04-29T20:02:06.588Z"
   },
   {
    "duration": 76,
    "start_time": "2025-04-29T20:02:19.480Z"
   },
   {
    "duration": 22,
    "start_time": "2025-04-29T20:03:15.717Z"
   },
   {
    "duration": 38,
    "start_time": "2025-04-29T20:03:21.989Z"
   },
   {
    "duration": 10,
    "start_time": "2025-04-29T20:04:56.161Z"
   },
   {
    "duration": 9,
    "start_time": "2025-04-29T20:06:08.728Z"
   },
   {
    "duration": 10,
    "start_time": "2025-04-29T20:06:09.490Z"
   },
   {
    "duration": 68,
    "start_time": "2025-04-29T20:07:24.208Z"
   },
   {
    "duration": 27,
    "start_time": "2025-04-29T20:09:18.881Z"
   },
   {
    "duration": 14,
    "start_time": "2025-04-29T20:32:07.436Z"
   },
   {
    "duration": 4,
    "start_time": "2025-04-29T20:34:16.288Z"
   },
   {
    "duration": 10,
    "start_time": "2025-04-29T20:34:18.531Z"
   },
   {
    "duration": 7,
    "start_time": "2025-04-29T20:34:45.574Z"
   },
   {
    "duration": 7,
    "start_time": "2025-04-29T20:35:12.743Z"
   },
   {
    "duration": 13,
    "start_time": "2025-04-29T20:35:33.189Z"
   },
   {
    "duration": 9,
    "start_time": "2025-04-29T20:35:39.139Z"
   },
   {
    "duration": 6,
    "start_time": "2025-04-29T20:35:42.284Z"
   },
   {
    "duration": 14,
    "start_time": "2025-04-29T20:35:57.514Z"
   },
   {
    "duration": 15,
    "start_time": "2025-04-29T20:36:53.210Z"
   },
   {
    "duration": 9,
    "start_time": "2025-04-29T20:36:55.414Z"
   },
   {
    "duration": 96,
    "start_time": "2025-04-29T21:02:39.561Z"
   },
   {
    "duration": 2457,
    "start_time": "2025-04-29T21:08:17.707Z"
   },
   {
    "duration": 129,
    "start_time": "2025-04-29T21:09:09.877Z"
   },
   {
    "duration": 262,
    "start_time": "2025-04-29T21:10:15.120Z"
   },
   {
    "duration": 225,
    "start_time": "2025-04-29T21:11:30.063Z"
   },
   {
    "duration": 146,
    "start_time": "2025-04-29T21:12:01.138Z"
   },
   {
    "duration": 147,
    "start_time": "2025-04-29T21:12:14.236Z"
   },
   {
    "duration": 15,
    "start_time": "2025-04-29T21:14:48.108Z"
   },
   {
    "duration": 16,
    "start_time": "2025-04-29T21:15:43.428Z"
   },
   {
    "duration": 8,
    "start_time": "2025-04-29T21:16:10.655Z"
   },
   {
    "duration": 8,
    "start_time": "2025-04-29T21:16:56.190Z"
   },
   {
    "duration": 187,
    "start_time": "2025-04-29T21:17:39.264Z"
   },
   {
    "duration": 236,
    "start_time": "2025-04-29T21:20:09.702Z"
   },
   {
    "duration": 183,
    "start_time": "2025-04-29T21:20:30.049Z"
   },
   {
    "duration": 180,
    "start_time": "2025-04-29T21:20:33.473Z"
   },
   {
    "duration": 174,
    "start_time": "2025-04-29T21:22:41.502Z"
   },
   {
    "duration": 225,
    "start_time": "2025-04-29T21:24:10.294Z"
   },
   {
    "duration": 13,
    "start_time": "2025-04-29T21:28:50.356Z"
   },
   {
    "duration": 13,
    "start_time": "2025-04-29T21:28:52.647Z"
   },
   {
    "duration": 96,
    "start_time": "2025-04-29T21:29:21.581Z"
   },
   {
    "duration": 101,
    "start_time": "2025-04-29T21:29:30.178Z"
   },
   {
    "duration": 85,
    "start_time": "2025-04-29T21:29:41.031Z"
   },
   {
    "duration": 225,
    "start_time": "2025-04-29T21:29:42.259Z"
   },
   {
    "duration": 103,
    "start_time": "2025-04-29T21:31:07.337Z"
   },
   {
    "duration": 104,
    "start_time": "2025-04-29T21:31:39.625Z"
   },
   {
    "duration": 98,
    "start_time": "2025-04-29T21:32:53.090Z"
   },
   {
    "duration": 127,
    "start_time": "2025-04-29T21:33:43.032Z"
   },
   {
    "duration": 298,
    "start_time": "2025-04-29T21:35:13.305Z"
   },
   {
    "duration": 562,
    "start_time": "2025-04-29T21:35:47.823Z"
   },
   {
    "duration": 459,
    "start_time": "2025-04-29T21:36:00.417Z"
   },
   {
    "duration": 175,
    "start_time": "2025-04-29T21:38:36.694Z"
   },
   {
    "duration": 143,
    "start_time": "2025-04-29T21:39:08.385Z"
   },
   {
    "duration": 332,
    "start_time": "2025-04-30T00:03:26.975Z"
   },
   {
    "duration": 1036,
    "start_time": "2025-04-30T00:03:27.310Z"
   },
   {
    "duration": 11,
    "start_time": "2025-04-30T00:03:28.348Z"
   },
   {
    "duration": 9,
    "start_time": "2025-04-30T00:03:28.361Z"
   },
   {
    "duration": 9,
    "start_time": "2025-04-30T00:03:28.372Z"
   },
   {
    "duration": 8,
    "start_time": "2025-04-30T00:03:28.382Z"
   },
   {
    "duration": 51,
    "start_time": "2025-04-30T00:03:28.392Z"
   },
   {
    "duration": 100,
    "start_time": "2025-04-30T00:03:28.445Z"
   },
   {
    "duration": 99,
    "start_time": "2025-04-30T00:03:28.546Z"
   },
   {
    "duration": 7,
    "start_time": "2025-04-30T00:03:28.648Z"
   },
   {
    "duration": 110,
    "start_time": "2025-04-30T00:03:28.657Z"
   },
   {
    "duration": 98,
    "start_time": "2025-04-30T00:03:28.768Z"
   },
   {
    "duration": 57,
    "start_time": "2025-04-30T00:03:28.868Z"
   },
   {
    "duration": 16,
    "start_time": "2025-04-30T00:03:28.933Z"
   },
   {
    "duration": 6,
    "start_time": "2025-04-30T00:03:28.950Z"
   },
   {
    "duration": 24,
    "start_time": "2025-04-30T00:03:28.957Z"
   },
   {
    "duration": 16,
    "start_time": "2025-04-30T00:03:28.983Z"
   },
   {
    "duration": 6,
    "start_time": "2025-04-30T00:03:29.024Z"
   },
   {
    "duration": 6,
    "start_time": "2025-04-30T00:03:29.032Z"
   },
   {
    "duration": 5,
    "start_time": "2025-04-30T00:03:29.039Z"
   },
   {
    "duration": 5,
    "start_time": "2025-04-30T00:03:29.045Z"
   },
   {
    "duration": 874,
    "start_time": "2025-04-30T00:03:29.052Z"
   },
   {
    "duration": 781,
    "start_time": "2025-04-30T00:03:29.928Z"
   },
   {
    "duration": 19,
    "start_time": "2025-04-30T00:03:30.711Z"
   },
   {
    "duration": 6,
    "start_time": "2025-04-30T00:03:30.732Z"
   },
   {
    "duration": 6,
    "start_time": "2025-04-30T00:03:30.740Z"
   },
   {
    "duration": 7,
    "start_time": "2025-04-30T00:03:30.747Z"
   },
   {
    "duration": 8,
    "start_time": "2025-04-30T00:03:30.756Z"
   },
   {
    "duration": 5,
    "start_time": "2025-04-30T00:03:30.766Z"
   },
   {
    "duration": 9,
    "start_time": "2025-04-30T00:03:30.773Z"
   },
   {
    "duration": 42,
    "start_time": "2025-04-30T00:03:30.784Z"
   },
   {
    "duration": 20,
    "start_time": "2025-04-30T00:03:30.828Z"
   },
   {
    "duration": 36,
    "start_time": "2025-04-30T00:03:30.850Z"
   },
   {
    "duration": 40,
    "start_time": "2025-04-30T00:03:30.888Z"
   },
   {
    "duration": 62,
    "start_time": "2025-04-30T00:03:30.930Z"
   },
   {
    "duration": 48,
    "start_time": "2025-04-30T00:03:30.994Z"
   },
   {
    "duration": 5,
    "start_time": "2025-04-30T00:03:31.044Z"
   },
   {
    "duration": 5,
    "start_time": "2025-04-30T00:03:31.051Z"
   },
   {
    "duration": 2155,
    "start_time": "2025-04-30T00:03:31.058Z"
   },
   {
    "duration": 115,
    "start_time": "2025-04-30T00:03:33.216Z"
   },
   {
    "duration": 153,
    "start_time": "2025-04-30T00:03:33.336Z"
   },
   {
    "duration": 209,
    "start_time": "2025-04-30T00:03:33.491Z"
   },
   {
    "duration": 178,
    "start_time": "2025-04-30T00:03:33.702Z"
   },
   {
    "duration": 177,
    "start_time": "2025-04-30T00:03:33.883Z"
   },
   {
    "duration": 204,
    "start_time": "2025-04-30T00:03:34.062Z"
   },
   {
    "duration": 283,
    "start_time": "2025-04-30T00:03:34.267Z"
   },
   {
    "duration": 0,
    "start_time": "2025-04-30T00:03:34.553Z"
   },
   {
    "duration": 0,
    "start_time": "2025-04-30T00:03:34.554Z"
   },
   {
    "duration": 0,
    "start_time": "2025-04-30T00:03:34.555Z"
   },
   {
    "duration": 101,
    "start_time": "2025-04-30T00:03:46.672Z"
   },
   {
    "duration": 236,
    "start_time": "2025-04-30T00:04:11.981Z"
   },
   {
    "duration": 415,
    "start_time": "2025-04-30T00:04:12.900Z"
   },
   {
    "duration": 157,
    "start_time": "2025-04-30T00:04:17.162Z"
   },
   {
    "duration": 127,
    "start_time": "2025-04-30T00:04:34.245Z"
   },
   {
    "duration": 226,
    "start_time": "2025-04-30T19:19:57.442Z"
   },
   {
    "duration": 394,
    "start_time": "2025-04-30T19:20:13.256Z"
   },
   {
    "duration": 1078,
    "start_time": "2025-04-30T19:20:13.653Z"
   },
   {
    "duration": 12,
    "start_time": "2025-04-30T19:20:14.735Z"
   },
   {
    "duration": 12,
    "start_time": "2025-04-30T19:20:14.749Z"
   },
   {
    "duration": 9,
    "start_time": "2025-04-30T19:20:14.765Z"
   },
   {
    "duration": 36,
    "start_time": "2025-04-30T19:20:14.776Z"
   },
   {
    "duration": 39,
    "start_time": "2025-04-30T19:20:14.814Z"
   },
   {
    "duration": 144,
    "start_time": "2025-04-30T19:20:14.855Z"
   },
   {
    "duration": 109,
    "start_time": "2025-04-30T19:20:15.001Z"
   },
   {
    "duration": 9,
    "start_time": "2025-04-30T19:20:15.112Z"
   },
   {
    "duration": 115,
    "start_time": "2025-04-30T19:20:15.124Z"
   },
   {
    "duration": 98,
    "start_time": "2025-04-30T19:20:15.241Z"
   },
   {
    "duration": 54,
    "start_time": "2025-04-30T19:20:15.341Z"
   },
   {
    "duration": 27,
    "start_time": "2025-04-30T19:20:15.398Z"
   },
   {
    "duration": 7,
    "start_time": "2025-04-30T19:20:15.427Z"
   },
   {
    "duration": 24,
    "start_time": "2025-04-30T19:20:15.436Z"
   },
   {
    "duration": 15,
    "start_time": "2025-04-30T19:20:15.462Z"
   },
   {
    "duration": 5,
    "start_time": "2025-04-30T19:20:15.508Z"
   },
   {
    "duration": 5,
    "start_time": "2025-04-30T19:20:15.515Z"
   },
   {
    "duration": 6,
    "start_time": "2025-04-30T19:20:15.521Z"
   },
   {
    "duration": 5,
    "start_time": "2025-04-30T19:20:15.529Z"
   },
   {
    "duration": 920,
    "start_time": "2025-04-30T19:20:15.536Z"
   },
   {
    "duration": 834,
    "start_time": "2025-04-30T19:20:16.458Z"
   },
   {
    "duration": 20,
    "start_time": "2025-04-30T19:20:17.295Z"
   },
   {
    "duration": 9,
    "start_time": "2025-04-30T19:20:17.316Z"
   },
   {
    "duration": 9,
    "start_time": "2025-04-30T19:20:17.326Z"
   },
   {
    "duration": 8,
    "start_time": "2025-04-30T19:20:17.337Z"
   },
   {
    "duration": 11,
    "start_time": "2025-04-30T19:20:17.348Z"
   },
   {
    "duration": 7,
    "start_time": "2025-04-30T19:20:17.361Z"
   },
   {
    "duration": 42,
    "start_time": "2025-04-30T19:20:17.371Z"
   },
   {
    "duration": 9,
    "start_time": "2025-04-30T19:20:17.417Z"
   },
   {
    "duration": 19,
    "start_time": "2025-04-30T19:20:17.428Z"
   },
   {
    "duration": 73,
    "start_time": "2025-04-30T19:20:17.450Z"
   },
   {
    "duration": 18,
    "start_time": "2025-04-30T19:20:17.525Z"
   },
   {
    "duration": 90,
    "start_time": "2025-04-30T19:20:17.545Z"
   },
   {
    "duration": 35,
    "start_time": "2025-04-30T19:20:17.637Z"
   },
   {
    "duration": 7,
    "start_time": "2025-04-30T19:20:17.674Z"
   },
   {
    "duration": 5,
    "start_time": "2025-04-30T19:20:17.683Z"
   },
   {
    "duration": 2453,
    "start_time": "2025-04-30T19:20:17.710Z"
   },
   {
    "duration": 153,
    "start_time": "2025-04-30T19:20:20.166Z"
   },
   {
    "duration": 164,
    "start_time": "2025-04-30T19:20:20.325Z"
   },
   {
    "duration": 180,
    "start_time": "2025-04-30T19:20:20.491Z"
   },
   {
    "duration": 210,
    "start_time": "2025-04-30T19:20:20.673Z"
   },
   {
    "duration": 192,
    "start_time": "2025-04-30T19:20:20.886Z"
   },
   {
    "duration": 232,
    "start_time": "2025-04-30T19:20:21.081Z"
   },
   {
    "duration": 97,
    "start_time": "2025-04-30T19:20:21.315Z"
   },
   {
    "duration": 96,
    "start_time": "2025-04-30T19:20:21.415Z"
   },
   {
    "duration": 320,
    "start_time": "2025-04-30T19:20:21.514Z"
   },
   {
    "duration": 466,
    "start_time": "2025-04-30T19:20:21.836Z"
   },
   {
    "duration": 193,
    "start_time": "2025-04-30T19:20:22.310Z"
   },
   {
    "duration": 0,
    "start_time": "2025-04-30T19:20:22.509Z"
   },
   {
    "duration": 134,
    "start_time": "2025-04-30T19:21:08.362Z"
   },
   {
    "duration": 3,
    "start_time": "2025-05-04T13:52:07.160Z"
   },
   {
    "duration": 8,
    "start_time": "2025-05-04T13:53:17.544Z"
   }
  ],
  "colab": {
   "provenance": []
  },
  "kernelspec": {
   "display_name": "Python 3 (ipykernel)",
   "language": "python",
   "name": "python3"
  },
  "language_info": {
   "codemirror_mode": {
    "name": "ipython",
    "version": 3
   },
   "file_extension": ".py",
   "mimetype": "text/x-python",
   "name": "python",
   "nbconvert_exporter": "python",
   "pygments_lexer": "ipython3",
   "version": "3.9.19"
  },
  "toc": {
   "base_numbering": 1,
   "nav_menu": {},
   "number_sections": true,
   "sideBar": true,
   "skip_h1_title": true,
   "title_cell": "Table of Contents",
   "title_sidebar": "Contents",
   "toc_cell": false,
   "toc_position": {},
   "toc_section_display": true,
   "toc_window_display": false
  },
  "vscode": {
   "interpreter": {
    "hash": "01a7be9ec63e704a62cefc5fe7a4756944464ee731be31632bdf42a4cb4688cf"
   }
  }
 },
 "nbformat": 4,
 "nbformat_minor": 5
}
